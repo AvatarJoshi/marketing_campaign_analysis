{
 "cells": [
  {
   "attachments": {},
   "cell_type": "markdown",
   "metadata": {},
   "source": [
    "# Marketing Campaign Analysis\n",
    "---\n",
    "\n",
    "## Overview\n",
    "Imagine that Freedom ran a recent marketing campaign to promote the value proposition of how the debt relief program helps people achieve financial freedom. Assume the cost of this campaign was $5 million. There are five months of data in the datasets provided. Let’s say campaign took place over the course of the third month. You now want to show the marketing, sales and operations teams just how successful this campaign was.\n",
    "\n",
    "## Objectives\n",
    "Using the three datasets given:\n",
    "\n",
    "1. Provide a quantitative assessment of whether the marketing campaign was successful. Explain why these metrics were choosen.\n",
    "\n",
    "2. Based on the provided data, recommend ways the campaign strategy can be adjusted in the future to improve performance."
   ]
  },
  {
   "attachments": {},
   "cell_type": "markdown",
   "metadata": {},
   "source": [
    "# Data Preprocessing\n",
    "---"
   ]
  },
  {
   "cell_type": "code",
   "execution_count": 268,
   "metadata": {},
   "outputs": [],
   "source": [
    "# import dependencies\n",
    "import pandas as pd\n",
    "import matplotlib.pyplot as plt\n",
    "import numpy as np"
   ]
  },
  {
   "cell_type": "code",
   "execution_count": 269,
   "metadata": {},
   "outputs": [],
   "source": [
    "# read in the data\n",
    "calendar_df = pd.read_csv('./resources/datasets/calendar_data.csv')\n",
    "client_df = pd.read_csv('./resources/datasets/client_data.csv')\n",
    "deposit_df = pd.read_csv('./resources/datasets/deposit_data.csv')"
   ]
  },
  {
   "cell_type": "code",
   "execution_count": 270,
   "metadata": {},
   "outputs": [
    {
     "data": {
      "text/html": [
       "<div>\n",
       "<style scoped>\n",
       "    .dataframe tbody tr th:only-of-type {\n",
       "        vertical-align: middle;\n",
       "    }\n",
       "\n",
       "    .dataframe tbody tr th {\n",
       "        vertical-align: top;\n",
       "    }\n",
       "\n",
       "    .dataframe thead th {\n",
       "        text-align: right;\n",
       "    }\n",
       "</style>\n",
       "<table border=\"1\" class=\"dataframe\">\n",
       "  <thead>\n",
       "    <tr style=\"text-align: right;\">\n",
       "      <th></th>\n",
       "      <th>client_id</th>\n",
       "      <th>client_geographical_region</th>\n",
       "      <th>client_residence_status</th>\n",
       "      <th>client_age</th>\n",
       "    </tr>\n",
       "  </thead>\n",
       "  <tbody>\n",
       "    <tr>\n",
       "      <th>0</th>\n",
       "      <td>538839486596724</td>\n",
       "      <td>Northeast</td>\n",
       "      <td>Rent</td>\n",
       "      <td>91</td>\n",
       "    </tr>\n",
       "    <tr>\n",
       "      <th>1</th>\n",
       "      <td>321708286091707</td>\n",
       "      <td>West</td>\n",
       "      <td>Own</td>\n",
       "      <td>83</td>\n",
       "    </tr>\n",
       "    <tr>\n",
       "      <th>2</th>\n",
       "      <td>848531901757235</td>\n",
       "      <td>Midwest</td>\n",
       "      <td>Own</td>\n",
       "      <td>84</td>\n",
       "    </tr>\n",
       "    <tr>\n",
       "      <th>3</th>\n",
       "      <td>854405182328779</td>\n",
       "      <td>Northeast</td>\n",
       "      <td>Own</td>\n",
       "      <td>83</td>\n",
       "    </tr>\n",
       "    <tr>\n",
       "      <th>4</th>\n",
       "      <td>769102176031316</td>\n",
       "      <td>West</td>\n",
       "      <td>Own</td>\n",
       "      <td>85</td>\n",
       "    </tr>\n",
       "  </tbody>\n",
       "</table>\n",
       "</div>"
      ],
      "text/plain": [
       "         client_id client_geographical_region client_residence_status  \\\n",
       "0  538839486596724                  Northeast                    Rent   \n",
       "1  321708286091707                       West                     Own   \n",
       "2  848531901757235                    Midwest                     Own   \n",
       "3  854405182328779                  Northeast                     Own   \n",
       "4  769102176031316                       West                     Own   \n",
       "\n",
       "   client_age  \n",
       "0          91  \n",
       "1          83  \n",
       "2          84  \n",
       "3          83  \n",
       "4          85  "
      ]
     },
     "execution_count": 270,
     "metadata": {},
     "output_type": "execute_result"
    }
   ],
   "source": [
    "# view client data\n",
    "client_df.head()"
   ]
  },
  {
   "cell_type": "code",
   "execution_count": 271,
   "metadata": {},
   "outputs": [
    {
     "data": {
      "text/html": [
       "<div>\n",
       "<style scoped>\n",
       "    .dataframe tbody tr th:only-of-type {\n",
       "        vertical-align: middle;\n",
       "    }\n",
       "\n",
       "    .dataframe tbody tr th {\n",
       "        vertical-align: top;\n",
       "    }\n",
       "\n",
       "    .dataframe thead th {\n",
       "        text-align: right;\n",
       "    }\n",
       "</style>\n",
       "<table border=\"1\" class=\"dataframe\">\n",
       "  <thead>\n",
       "    <tr style=\"text-align: right;\">\n",
       "      <th></th>\n",
       "      <th>client_id</th>\n",
       "      <th>deposit_type</th>\n",
       "      <th>deposit_amount</th>\n",
       "      <th>deposit_cadence</th>\n",
       "      <th>deposit_date</th>\n",
       "    </tr>\n",
       "  </thead>\n",
       "  <tbody>\n",
       "    <tr>\n",
       "      <th>0</th>\n",
       "      <td>446495122764671</td>\n",
       "      <td>Actual Deposit</td>\n",
       "      <td>303.0</td>\n",
       "      <td>Monthly</td>\n",
       "      <td>2019-10-23</td>\n",
       "    </tr>\n",
       "    <tr>\n",
       "      <th>1</th>\n",
       "      <td>446495122764671</td>\n",
       "      <td>Actual Deposit</td>\n",
       "      <td>303.0</td>\n",
       "      <td>Monthly</td>\n",
       "      <td>2019-09-23</td>\n",
       "    </tr>\n",
       "    <tr>\n",
       "      <th>2</th>\n",
       "      <td>446495122764671</td>\n",
       "      <td>Scheduled Deposit</td>\n",
       "      <td>303.0</td>\n",
       "      <td>Monthly</td>\n",
       "      <td>2019-09-23</td>\n",
       "    </tr>\n",
       "    <tr>\n",
       "      <th>3</th>\n",
       "      <td>446495122764671</td>\n",
       "      <td>Scheduled Deposit</td>\n",
       "      <td>303.0</td>\n",
       "      <td>Monthly</td>\n",
       "      <td>2019-10-23</td>\n",
       "    </tr>\n",
       "    <tr>\n",
       "      <th>4</th>\n",
       "      <td>446495122764671</td>\n",
       "      <td>Scheduled Deposit</td>\n",
       "      <td>303.0</td>\n",
       "      <td>Monthly</td>\n",
       "      <td>2019-06-23</td>\n",
       "    </tr>\n",
       "  </tbody>\n",
       "</table>\n",
       "</div>"
      ],
      "text/plain": [
       "         client_id       deposit_type  deposit_amount deposit_cadence  \\\n",
       "0  446495122764671     Actual Deposit           303.0         Monthly   \n",
       "1  446495122764671     Actual Deposit           303.0         Monthly   \n",
       "2  446495122764671  Scheduled Deposit           303.0         Monthly   \n",
       "3  446495122764671  Scheduled Deposit           303.0         Monthly   \n",
       "4  446495122764671  Scheduled Deposit           303.0         Monthly   \n",
       "\n",
       "  deposit_date  \n",
       "0   2019-10-23  \n",
       "1   2019-09-23  \n",
       "2   2019-09-23  \n",
       "3   2019-10-23  \n",
       "4   2019-06-23  "
      ]
     },
     "execution_count": 271,
     "metadata": {},
     "output_type": "execute_result"
    }
   ],
   "source": [
    "# view deposit data\n",
    "deposit_df.head()"
   ]
  },
  {
   "cell_type": "code",
   "execution_count": 272,
   "metadata": {},
   "outputs": [
    {
     "data": {
      "text/html": [
       "<div>\n",
       "<style scoped>\n",
       "    .dataframe tbody tr th:only-of-type {\n",
       "        vertical-align: middle;\n",
       "    }\n",
       "\n",
       "    .dataframe tbody tr th {\n",
       "        vertical-align: top;\n",
       "    }\n",
       "\n",
       "    .dataframe thead th {\n",
       "        text-align: right;\n",
       "    }\n",
       "</style>\n",
       "<table border=\"1\" class=\"dataframe\">\n",
       "  <thead>\n",
       "    <tr style=\"text-align: right;\">\n",
       "      <th></th>\n",
       "      <th>gregorian_date</th>\n",
       "      <th>month_name</th>\n",
       "    </tr>\n",
       "  </thead>\n",
       "  <tbody>\n",
       "    <tr>\n",
       "      <th>0</th>\n",
       "      <td>2019-06-01</td>\n",
       "      <td>Month 1</td>\n",
       "    </tr>\n",
       "    <tr>\n",
       "      <th>1</th>\n",
       "      <td>2019-06-02</td>\n",
       "      <td>Month 1</td>\n",
       "    </tr>\n",
       "    <tr>\n",
       "      <th>2</th>\n",
       "      <td>2019-06-03</td>\n",
       "      <td>Month 1</td>\n",
       "    </tr>\n",
       "    <tr>\n",
       "      <th>3</th>\n",
       "      <td>2019-06-04</td>\n",
       "      <td>Month 1</td>\n",
       "    </tr>\n",
       "    <tr>\n",
       "      <th>4</th>\n",
       "      <td>2019-06-05</td>\n",
       "      <td>Month 1</td>\n",
       "    </tr>\n",
       "  </tbody>\n",
       "</table>\n",
       "</div>"
      ],
      "text/plain": [
       "  gregorian_date month_name\n",
       "0     2019-06-01    Month 1\n",
       "1     2019-06-02    Month 1\n",
       "2     2019-06-03    Month 1\n",
       "3     2019-06-04    Month 1\n",
       "4     2019-06-05    Month 1"
      ]
     },
     "execution_count": 272,
     "metadata": {},
     "output_type": "execute_result"
    }
   ],
   "source": [
    "# View calendar data\n",
    "calendar_df.head()"
   ]
  },
  {
   "cell_type": "code",
   "execution_count": 273,
   "metadata": {},
   "outputs": [
    {
     "data": {
      "text/html": [
       "<div>\n",
       "<style scoped>\n",
       "    .dataframe tbody tr th:only-of-type {\n",
       "        vertical-align: middle;\n",
       "    }\n",
       "\n",
       "    .dataframe tbody tr th {\n",
       "        vertical-align: top;\n",
       "    }\n",
       "\n",
       "    .dataframe thead th {\n",
       "        text-align: right;\n",
       "    }\n",
       "</style>\n",
       "<table border=\"1\" class=\"dataframe\">\n",
       "  <thead>\n",
       "    <tr style=\"text-align: right;\">\n",
       "      <th></th>\n",
       "      <th>client_id</th>\n",
       "      <th>client_geographical_region</th>\n",
       "      <th>client_residence_status</th>\n",
       "      <th>client_age</th>\n",
       "      <th>deposit_type</th>\n",
       "      <th>deposit_amount</th>\n",
       "      <th>deposit_cadence</th>\n",
       "      <th>deposit_date</th>\n",
       "      <th>gregorian_date</th>\n",
       "      <th>month_name</th>\n",
       "    </tr>\n",
       "  </thead>\n",
       "  <tbody>\n",
       "    <tr>\n",
       "      <th>0</th>\n",
       "      <td>538839486596724</td>\n",
       "      <td>Northeast</td>\n",
       "      <td>Rent</td>\n",
       "      <td>91</td>\n",
       "      <td>Actual Deposit</td>\n",
       "      <td>10000.0</td>\n",
       "      <td>Extra</td>\n",
       "      <td>2019-07-11</td>\n",
       "      <td>2019-07-11</td>\n",
       "      <td>Month 2</td>\n",
       "    </tr>\n",
       "    <tr>\n",
       "      <th>1</th>\n",
       "      <td>773610304672603</td>\n",
       "      <td>West</td>\n",
       "      <td>Rent</td>\n",
       "      <td>24</td>\n",
       "      <td>Scheduled Deposit</td>\n",
       "      <td>100.0</td>\n",
       "      <td>Biweekly</td>\n",
       "      <td>2019-07-11</td>\n",
       "      <td>2019-07-11</td>\n",
       "      <td>Month 2</td>\n",
       "    </tr>\n",
       "    <tr>\n",
       "      <th>2</th>\n",
       "      <td>773610304672603</td>\n",
       "      <td>West</td>\n",
       "      <td>Rent</td>\n",
       "      <td>24</td>\n",
       "      <td>Actual Deposit</td>\n",
       "      <td>100.0</td>\n",
       "      <td>Biweekly</td>\n",
       "      <td>2019-07-11</td>\n",
       "      <td>2019-07-11</td>\n",
       "      <td>Month 2</td>\n",
       "    </tr>\n",
       "    <tr>\n",
       "      <th>3</th>\n",
       "      <td>552219454660531</td>\n",
       "      <td>West</td>\n",
       "      <td>Own</td>\n",
       "      <td>85</td>\n",
       "      <td>Scheduled Deposit</td>\n",
       "      <td>290.0</td>\n",
       "      <td>Biweekly</td>\n",
       "      <td>2019-07-11</td>\n",
       "      <td>2019-07-11</td>\n",
       "      <td>Month 2</td>\n",
       "    </tr>\n",
       "    <tr>\n",
       "      <th>4</th>\n",
       "      <td>55107102575545</td>\n",
       "      <td>Midwest</td>\n",
       "      <td>Own</td>\n",
       "      <td>83</td>\n",
       "      <td>Scheduled Deposit</td>\n",
       "      <td>438.0</td>\n",
       "      <td>Monthly</td>\n",
       "      <td>2019-07-11</td>\n",
       "      <td>2019-07-11</td>\n",
       "      <td>Month 2</td>\n",
       "    </tr>\n",
       "  </tbody>\n",
       "</table>\n",
       "</div>"
      ],
      "text/plain": [
       "         client_id client_geographical_region client_residence_status  \\\n",
       "0  538839486596724                  Northeast                    Rent   \n",
       "1  773610304672603                       West                    Rent   \n",
       "2  773610304672603                       West                    Rent   \n",
       "3  552219454660531                       West                     Own   \n",
       "4   55107102575545                    Midwest                     Own   \n",
       "\n",
       "   client_age       deposit_type  deposit_amount deposit_cadence deposit_date  \\\n",
       "0          91     Actual Deposit         10000.0           Extra   2019-07-11   \n",
       "1          24  Scheduled Deposit           100.0        Biweekly   2019-07-11   \n",
       "2          24     Actual Deposit           100.0        Biweekly   2019-07-11   \n",
       "3          85  Scheduled Deposit           290.0        Biweekly   2019-07-11   \n",
       "4          83  Scheduled Deposit           438.0         Monthly   2019-07-11   \n",
       "\n",
       "  gregorian_date month_name  \n",
       "0     2019-07-11    Month 2  \n",
       "1     2019-07-11    Month 2  \n",
       "2     2019-07-11    Month 2  \n",
       "3     2019-07-11    Month 2  \n",
       "4     2019-07-11    Month 2  "
      ]
     },
     "execution_count": 273,
     "metadata": {},
     "output_type": "execute_result"
    }
   ],
   "source": [
    "# Merge the data\n",
    "df = pd.merge(client_df, deposit_df, on='client_id')\n",
    "df = pd.merge(df, calendar_df, left_on='deposit_date', right_on=\"gregorian_date\")\n",
    "df.head()"
   ]
  },
  {
   "cell_type": "code",
   "execution_count": 274,
   "metadata": {},
   "outputs": [
    {
     "data": {
      "text/html": [
       "<div>\n",
       "<style scoped>\n",
       "    .dataframe tbody tr th:only-of-type {\n",
       "        vertical-align: middle;\n",
       "    }\n",
       "\n",
       "    .dataframe tbody tr th {\n",
       "        vertical-align: top;\n",
       "    }\n",
       "\n",
       "    .dataframe thead th {\n",
       "        text-align: right;\n",
       "    }\n",
       "</style>\n",
       "<table border=\"1\" class=\"dataframe\">\n",
       "  <thead>\n",
       "    <tr style=\"text-align: right;\">\n",
       "      <th></th>\n",
       "      <th>client_id</th>\n",
       "      <th>client_geographical_region</th>\n",
       "      <th>client_residence_status</th>\n",
       "      <th>client_age</th>\n",
       "      <th>deposit_type</th>\n",
       "      <th>deposit_amount</th>\n",
       "      <th>deposit_cadence</th>\n",
       "      <th>deposit_date</th>\n",
       "      <th>month_name</th>\n",
       "    </tr>\n",
       "  </thead>\n",
       "  <tbody>\n",
       "    <tr>\n",
       "      <th>0</th>\n",
       "      <td>538839486596724</td>\n",
       "      <td>Northeast</td>\n",
       "      <td>Rent</td>\n",
       "      <td>91</td>\n",
       "      <td>Actual Deposit</td>\n",
       "      <td>10000.0</td>\n",
       "      <td>Extra</td>\n",
       "      <td>2019-07-11</td>\n",
       "      <td>Month 2</td>\n",
       "    </tr>\n",
       "    <tr>\n",
       "      <th>1</th>\n",
       "      <td>773610304672603</td>\n",
       "      <td>West</td>\n",
       "      <td>Rent</td>\n",
       "      <td>24</td>\n",
       "      <td>Scheduled Deposit</td>\n",
       "      <td>100.0</td>\n",
       "      <td>Biweekly</td>\n",
       "      <td>2019-07-11</td>\n",
       "      <td>Month 2</td>\n",
       "    </tr>\n",
       "    <tr>\n",
       "      <th>2</th>\n",
       "      <td>773610304672603</td>\n",
       "      <td>West</td>\n",
       "      <td>Rent</td>\n",
       "      <td>24</td>\n",
       "      <td>Actual Deposit</td>\n",
       "      <td>100.0</td>\n",
       "      <td>Biweekly</td>\n",
       "      <td>2019-07-11</td>\n",
       "      <td>Month 2</td>\n",
       "    </tr>\n",
       "    <tr>\n",
       "      <th>3</th>\n",
       "      <td>552219454660531</td>\n",
       "      <td>West</td>\n",
       "      <td>Own</td>\n",
       "      <td>85</td>\n",
       "      <td>Scheduled Deposit</td>\n",
       "      <td>290.0</td>\n",
       "      <td>Biweekly</td>\n",
       "      <td>2019-07-11</td>\n",
       "      <td>Month 2</td>\n",
       "    </tr>\n",
       "    <tr>\n",
       "      <th>4</th>\n",
       "      <td>55107102575545</td>\n",
       "      <td>Midwest</td>\n",
       "      <td>Own</td>\n",
       "      <td>83</td>\n",
       "      <td>Scheduled Deposit</td>\n",
       "      <td>438.0</td>\n",
       "      <td>Monthly</td>\n",
       "      <td>2019-07-11</td>\n",
       "      <td>Month 2</td>\n",
       "    </tr>\n",
       "  </tbody>\n",
       "</table>\n",
       "</div>"
      ],
      "text/plain": [
       "         client_id client_geographical_region client_residence_status  \\\n",
       "0  538839486596724                  Northeast                    Rent   \n",
       "1  773610304672603                       West                    Rent   \n",
       "2  773610304672603                       West                    Rent   \n",
       "3  552219454660531                       West                     Own   \n",
       "4   55107102575545                    Midwest                     Own   \n",
       "\n",
       "   client_age       deposit_type  deposit_amount deposit_cadence deposit_date  \\\n",
       "0          91     Actual Deposit         10000.0           Extra   2019-07-11   \n",
       "1          24  Scheduled Deposit           100.0        Biweekly   2019-07-11   \n",
       "2          24     Actual Deposit           100.0        Biweekly   2019-07-11   \n",
       "3          85  Scheduled Deposit           290.0        Biweekly   2019-07-11   \n",
       "4          83  Scheduled Deposit           438.0         Monthly   2019-07-11   \n",
       "\n",
       "  month_name  \n",
       "0    Month 2  \n",
       "1    Month 2  \n",
       "2    Month 2  \n",
       "3    Month 2  \n",
       "4    Month 2  "
      ]
     },
     "execution_count": 274,
     "metadata": {},
     "output_type": "execute_result"
    }
   ],
   "source": [
    "# Drop greogorian date column\n",
    "df = df.drop(columns=['gregorian_date'])\n",
    "\n",
    "# View the data\n",
    "df.head()"
   ]
  },
  {
   "cell_type": "code",
   "execution_count": 275,
   "metadata": {},
   "outputs": [
    {
     "data": {
      "text/plain": [
       "client_id                     0\n",
       "client_geographical_region    0\n",
       "client_residence_status       0\n",
       "client_age                    0\n",
       "deposit_type                  0\n",
       "deposit_amount                0\n",
       "deposit_cadence               0\n",
       "deposit_date                  0\n",
       "month_name                    0\n",
       "dtype: int64"
      ]
     },
     "execution_count": 275,
     "metadata": {},
     "output_type": "execute_result"
    }
   ],
   "source": [
    "# Show columns with values that are null\n",
    "df.isnull().sum()"
   ]
  },
  {
   "attachments": {},
   "cell_type": "markdown",
   "metadata": {},
   "source": [
    "# Exploratory Data Analysis\n",
    "---"
   ]
  },
  {
   "attachments": {},
   "cell_type": "markdown",
   "metadata": {},
   "source": [
    "## Client Activity"
   ]
  },
  {
   "cell_type": "code",
   "execution_count": 276,
   "metadata": {},
   "outputs": [
    {
     "name": "stdout",
     "output_type": "stream",
     "text": [
      "month_name\n",
      "Month 1     77827\n",
      "Month 2     80205\n",
      "Month 3    108505\n",
      "Month 4    107494\n",
      "Month 5    106363\n",
      "Name: client_id, dtype: int64\n",
      "\n",
      "Total number of unique clients: 46347\n"
     ]
    }
   ],
   "source": [
    "# Print unique active clients each month\n",
    "print(df.groupby('month_name').client_id.count())\n",
    "\n",
    "# Print a space\n",
    "print('')\n",
    "\n",
    "# Print total number of unique clients\n",
    "print(f'Total number of unique clients: {len(df.client_id.unique())}')"
   ]
  },
  {
   "cell_type": "code",
   "execution_count": 277,
   "metadata": {},
   "outputs": [
    {
     "data": {
      "text/plain": [
       "<matplotlib.axes._subplots.AxesSubplot at 0x7f8f38f32910>"
      ]
     },
     "execution_count": 277,
     "metadata": {},
     "output_type": "execute_result"
    },
    {
     "data": {
      "image/png": "[encoded data removed]",
      "text/plain": [
       "<Figure size 432x288 with 1 Axes>"
      ]
     },
     "metadata": {
      "needs_background": "light"
     },
     "output_type": "display_data"
    }
   ],
   "source": [
    "# Graph unique active clients each month\n",
    "df.groupby('month_name').client_id.count().plot(kind='bar', title='Unique Active Clients Each Month')"
   ]
  },
  {
   "cell_type": "markdown",
   "metadata": {},
   "source": [
    "## Regional Analysis"
   ]
  },
  {
   "cell_type": "code",
   "execution_count": 278,
   "metadata": {},
   "outputs": [
    {
     "data": {
      "text/plain": [
       "client_geographical_region\n",
       "Midwest       88185\n",
       "Northeast     78576\n",
       "South        108004\n",
       "West         205629\n",
       "Name: client_id, dtype: int64"
      ]
     },
     "execution_count": 278,
     "metadata": {},
     "output_type": "execute_result"
    }
   ],
   "source": [
    "# Break down data by region\n",
    "df.groupby('client_geographical_region').client_id.count()"
   ]
  },
  {
   "cell_type": "code",
   "execution_count": 279,
   "metadata": {},
   "outputs": [
    {
     "data": {
      "text/html": [
       "<div>\n",
       "<style scoped>\n",
       "    .dataframe tbody tr th:only-of-type {\n",
       "        vertical-align: middle;\n",
       "    }\n",
       "\n",
       "    .dataframe tbody tr th {\n",
       "        vertical-align: top;\n",
       "    }\n",
       "\n",
       "    .dataframe thead th {\n",
       "        text-align: right;\n",
       "    }\n",
       "</style>\n",
       "<table border=\"1\" class=\"dataframe\">\n",
       "  <thead>\n",
       "    <tr style=\"text-align: right;\">\n",
       "      <th>month_name</th>\n",
       "      <th>Month 1</th>\n",
       "      <th>Month 2</th>\n",
       "      <th>Month 3</th>\n",
       "      <th>Month 4</th>\n",
       "      <th>Month 5</th>\n",
       "    </tr>\n",
       "    <tr>\n",
       "      <th>client_geographical_region</th>\n",
       "      <th></th>\n",
       "      <th></th>\n",
       "      <th></th>\n",
       "      <th></th>\n",
       "      <th></th>\n",
       "    </tr>\n",
       "  </thead>\n",
       "  <tbody>\n",
       "    <tr>\n",
       "      <th>Midwest</th>\n",
       "      <td>NaN</td>\n",
       "      <td>3.398435</td>\n",
       "      <td>34.776679</td>\n",
       "      <td>0.480648</td>\n",
       "      <td>-0.745217</td>\n",
       "    </tr>\n",
       "    <tr>\n",
       "      <th>Northeast</th>\n",
       "      <td>NaN</td>\n",
       "      <td>3.151110</td>\n",
       "      <td>38.154748</td>\n",
       "      <td>-1.200514</td>\n",
       "      <td>-1.418560</td>\n",
       "    </tr>\n",
       "    <tr>\n",
       "      <th>South</th>\n",
       "      <td>NaN</td>\n",
       "      <td>2.167886</td>\n",
       "      <td>31.361589</td>\n",
       "      <td>-1.850781</td>\n",
       "      <td>-0.761849</td>\n",
       "    </tr>\n",
       "    <tr>\n",
       "      <th>West</th>\n",
       "      <td>NaN</td>\n",
       "      <td>3.356436</td>\n",
       "      <td>36.530015</td>\n",
       "      <td>-0.950134</td>\n",
       "      <td>-1.193106</td>\n",
       "    </tr>\n",
       "  </tbody>\n",
       "</table>\n",
       "</div>"
      ],
      "text/plain": [
       "month_name                  Month 1   Month 2    Month 3   Month 4   Month 5\n",
       "client_geographical_region                                                  \n",
       "Midwest                         NaN  3.398435  34.776679  0.480648 -0.745217\n",
       "Northeast                       NaN  3.151110  38.154748 -1.200514 -1.418560\n",
       "South                           NaN  2.167886  31.361589 -1.850781 -0.761849\n",
       "West                            NaN  3.356436  36.530015 -0.950134 -1.193106"
      ]
     },
     "execution_count": 279,
     "metadata": {},
     "output_type": "execute_result"
    }
   ],
   "source": [
    "# Calculate the month over month increase in active clients per region\n",
    "df.groupby(['client_geographical_region', 'month_name']).client_id.count().unstack().pct_change(axis='columns') * 100"
   ]
  },
  {
   "cell_type": "code",
   "execution_count": 280,
   "metadata": {},
   "outputs": [
    {
     "data": {
      "text/plain": [
       "<matplotlib.axes._subplots.AxesSubplot at 0x7f8f1ff94f50>"
      ]
     },
     "execution_count": 280,
     "metadata": {},
     "output_type": "execute_result"
    },
    {
     "data": {
      "image/png": "[encoded data removed]",
      "text/plain": [
       "<Figure size 432x288 with 1 Axes>"
      ]
     },
     "metadata": {
      "needs_background": "light"
     },
     "output_type": "display_data"
    }
   ],
   "source": [
    "# Store the month over month increase in active clients per region in a variable\n",
    "month_over_month_increase = df.groupby(['client_geographical_region', 'month_name']).client_id.count().unstack().pct_change(axis='columns') * 100\n",
    "\n",
    "# Graph the month over month increase in active clients per region\n",
    "month_over_month_increase.plot(kind='bar', title='Month Over Month Increase in Active Clients Per Region')\n",
    "\n"
   ]
  },
  {
   "cell_type": "code",
   "execution_count": 281,
   "metadata": {},
   "outputs": [
    {
     "data": {
      "text/plain": [
       "Own     345432\n",
       "Rent    134962\n",
       "Name: client_residence_status, dtype: int64"
      ]
     },
     "execution_count": 281,
     "metadata": {},
     "output_type": "execute_result"
    }
   ],
   "source": [
    "# View client residence data\n",
    "df['client_residence_status'].value_counts()"
   ]
  },
  {
   "cell_type": "code",
   "execution_count": 282,
   "metadata": {},
   "outputs": [
    {
     "data": {
      "text/html": [
       "<div>\n",
       "<style scoped>\n",
       "    .dataframe tbody tr th:only-of-type {\n",
       "        vertical-align: middle;\n",
       "    }\n",
       "\n",
       "    .dataframe tbody tr th {\n",
       "        vertical-align: top;\n",
       "    }\n",
       "\n",
       "    .dataframe thead th {\n",
       "        text-align: right;\n",
       "    }\n",
       "</style>\n",
       "<table border=\"1\" class=\"dataframe\">\n",
       "  <thead>\n",
       "    <tr style=\"text-align: right;\">\n",
       "      <th></th>\n",
       "      <th>month_name</th>\n",
       "      <th>Month 1</th>\n",
       "      <th>Month 2</th>\n",
       "      <th>Month 3</th>\n",
       "      <th>Month 4</th>\n",
       "      <th>Month 5</th>\n",
       "    </tr>\n",
       "    <tr>\n",
       "      <th>client_geographical_region</th>\n",
       "      <th>client_residence_status</th>\n",
       "      <th></th>\n",
       "      <th></th>\n",
       "      <th></th>\n",
       "      <th></th>\n",
       "      <th></th>\n",
       "    </tr>\n",
       "  </thead>\n",
       "  <tbody>\n",
       "    <tr>\n",
       "      <th rowspan=\"2\" valign=\"top\">Midwest</th>\n",
       "      <th>Own</th>\n",
       "      <td>NaN</td>\n",
       "      <td>2.707711</td>\n",
       "      <td>37.890938</td>\n",
       "      <td>-0.109043</td>\n",
       "      <td>-0.953351</td>\n",
       "    </tr>\n",
       "    <tr>\n",
       "      <th>Rent</th>\n",
       "      <td>NaN</td>\n",
       "      <td>4.899329</td>\n",
       "      <td>28.150992</td>\n",
       "      <td>1.830587</td>\n",
       "      <td>-0.277823</td>\n",
       "    </tr>\n",
       "    <tr>\n",
       "      <th rowspan=\"2\" valign=\"top\">Northeast</th>\n",
       "      <th>Own</th>\n",
       "      <td>NaN</td>\n",
       "      <td>3.362723</td>\n",
       "      <td>38.147193</td>\n",
       "      <td>-1.493395</td>\n",
       "      <td>-1.355685</td>\n",
       "    </tr>\n",
       "    <tr>\n",
       "      <th>Rent</th>\n",
       "      <td>NaN</td>\n",
       "      <td>2.417348</td>\n",
       "      <td>38.181187</td>\n",
       "      <td>-0.175835</td>\n",
       "      <td>-1.635632</td>\n",
       "    </tr>\n",
       "    <tr>\n",
       "      <th rowspan=\"2\" valign=\"top\">South</th>\n",
       "      <th>Own</th>\n",
       "      <td>NaN</td>\n",
       "      <td>1.301083</td>\n",
       "      <td>35.048703</td>\n",
       "      <td>-3.568009</td>\n",
       "      <td>-0.529521</td>\n",
       "    </tr>\n",
       "    <tr>\n",
       "      <th>Rent</th>\n",
       "      <td>NaN</td>\n",
       "      <td>3.675577</td>\n",
       "      <td>25.095224</td>\n",
       "      <td>1.299918</td>\n",
       "      <td>-1.167630</td>\n",
       "    </tr>\n",
       "    <tr>\n",
       "      <th rowspan=\"2\" valign=\"top\">West</th>\n",
       "      <th>Own</th>\n",
       "      <td>NaN</td>\n",
       "      <td>2.814803</td>\n",
       "      <td>38.543788</td>\n",
       "      <td>-1.749922</td>\n",
       "      <td>-1.392645</td>\n",
       "    </tr>\n",
       "    <tr>\n",
       "      <th>Rent</th>\n",
       "      <td>NaN</td>\n",
       "      <td>4.995127</td>\n",
       "      <td>30.563936</td>\n",
       "      <td>1.564166</td>\n",
       "      <td>-0.586279</td>\n",
       "    </tr>\n",
       "  </tbody>\n",
       "</table>\n",
       "</div>"
      ],
      "text/plain": [
       "month_name                                          Month 1   Month 2  \\\n",
       "client_geographical_region client_residence_status                      \n",
       "Midwest                    Own                          NaN  2.707711   \n",
       "                           Rent                         NaN  4.899329   \n",
       "Northeast                  Own                          NaN  3.362723   \n",
       "                           Rent                         NaN  2.417348   \n",
       "South                      Own                          NaN  1.301083   \n",
       "                           Rent                         NaN  3.675577   \n",
       "West                       Own                          NaN  2.814803   \n",
       "                           Rent                         NaN  4.995127   \n",
       "\n",
       "month_name                                            Month 3   Month 4  \\\n",
       "client_geographical_region client_residence_status                        \n",
       "Midwest                    Own                      37.890938 -0.109043   \n",
       "                           Rent                     28.150992  1.830587   \n",
       "Northeast                  Own                      38.147193 -1.493395   \n",
       "                           Rent                     38.181187 -0.175835   \n",
       "South                      Own                      35.048703 -3.568009   \n",
       "                           Rent                     25.095224  1.299918   \n",
       "West                       Own                      38.543788 -1.749922   \n",
       "                           Rent                     30.563936  1.564166   \n",
       "\n",
       "month_name                                           Month 5  \n",
       "client_geographical_region client_residence_status            \n",
       "Midwest                    Own                     -0.953351  \n",
       "                           Rent                    -0.277823  \n",
       "Northeast                  Own                     -1.355685  \n",
       "                           Rent                    -1.635632  \n",
       "South                      Own                     -0.529521  \n",
       "                           Rent                    -1.167630  \n",
       "West                       Own                     -1.392645  \n",
       "                           Rent                    -0.586279  "
      ]
     },
     "execution_count": 282,
     "metadata": {},
     "output_type": "execute_result"
    }
   ],
   "source": [
    "# Calculate the month over month change in client residence status per region\n",
    "df.groupby(['client_geographical_region', 'client_residence_status', 'month_name']).client_id.count().unstack().pct_change(axis='columns')*100"
   ]
  },
  {
   "cell_type": "code",
   "execution_count": 283,
   "metadata": {},
   "outputs": [
    {
     "data": {
      "text/plain": [
       "<matplotlib.axes._subplots.AxesSubplot at 0x7f8ed84fe150>"
      ]
     },
     "execution_count": 283,
     "metadata": {},
     "output_type": "execute_result"
    },
    {
     "data": {
      "image/png": "[encoded data removed]",
      "text/plain": [
       "<Figure size 432x288 with 1 Axes>"
      ]
     },
     "metadata": {
      "needs_background": "light"
     },
     "output_type": "display_data"
    }
   ],
   "source": [
    "# Store the month over month change in client residence status per region in a variable\n",
    "month_over_month_residence = df.groupby(['client_geographical_region', 'client_residence_status', 'month_name']).client_id.count().unstack().pct_change(axis='columns')*100\n",
    "\n",
    "# Graph the month over month change in client residence status per region\n",
    "month_over_month_residence.plot(kind='bar', title='Month Over Month Change in Client Residence Status Per Region')"
   ]
  },
  {
   "attachments": {},
   "cell_type": "markdown",
   "metadata": {},
   "source": [
    "## Client Age Analysis"
   ]
  },
  {
   "cell_type": "code",
   "execution_count": 284,
   "metadata": {},
   "outputs": [
    {
     "data": {
      "text/plain": [
       "count    480394.000000\n",
       "mean         52.192469\n",
       "std          13.773928\n",
       "min          21.000000\n",
       "25%          41.000000\n",
       "50%          52.000000\n",
       "75%          62.000000\n",
       "max         105.000000\n",
       "Name: client_age, dtype: float64"
      ]
     },
     "execution_count": 284,
     "metadata": {},
     "output_type": "execute_result"
    }
   ],
   "source": [
    "# View client age data\n",
    "df['client_age'].describe()"
   ]
  },
  {
   "cell_type": "code",
   "execution_count": 285,
   "metadata": {},
   "outputs": [
    {
     "data": {
      "text/plain": [
       "<matplotlib.axes._subplots.AxesSubplot at 0x7f8ed84effd0>"
      ]
     },
     "execution_count": 285,
     "metadata": {},
     "output_type": "execute_result"
    },
    {
     "data": {
      "image/png": "[encoded data removed]",
      "text/plain": [
       "<Figure size 432x288 with 1 Axes>"
      ]
     },
     "metadata": {
      "needs_background": "light"
     },
     "output_type": "display_data"
    }
   ],
   "source": [
    "# View client age as histogram\n",
    "df['client_age'].hist()"
   ]
  },
  {
   "attachments": {},
   "cell_type": "markdown",
   "metadata": {},
   "source": [
    "# Client Deposit Analysis"
   ]
  },
  {
   "cell_type": "code",
   "execution_count": 286,
   "metadata": {},
   "outputs": [
    {
     "data": {
      "text/html": [
       "<div>\n",
       "<style scoped>\n",
       "    .dataframe tbody tr th:only-of-type {\n",
       "        vertical-align: middle;\n",
       "    }\n",
       "\n",
       "    .dataframe tbody tr th {\n",
       "        vertical-align: top;\n",
       "    }\n",
       "\n",
       "    .dataframe thead th {\n",
       "        text-align: right;\n",
       "    }\n",
       "</style>\n",
       "<table border=\"1\" class=\"dataframe\">\n",
       "  <thead>\n",
       "    <tr style=\"text-align: right;\">\n",
       "      <th></th>\n",
       "      <th>month_name</th>\n",
       "      <th>Month 1</th>\n",
       "      <th>Month 2</th>\n",
       "      <th>Month 3</th>\n",
       "      <th>Month 4</th>\n",
       "      <th>Month 5</th>\n",
       "    </tr>\n",
       "    <tr>\n",
       "      <th>client_geographical_region</th>\n",
       "      <th>deposit_type</th>\n",
       "      <th></th>\n",
       "      <th></th>\n",
       "      <th></th>\n",
       "      <th></th>\n",
       "      <th></th>\n",
       "    </tr>\n",
       "  </thead>\n",
       "  <tbody>\n",
       "    <tr>\n",
       "      <th rowspan=\"2\" valign=\"top\">Midwest</th>\n",
       "      <th>Actual Deposit</th>\n",
       "      <td>NaN</td>\n",
       "      <td>4.030738</td>\n",
       "      <td>34.076655</td>\n",
       "      <td>1.340956</td>\n",
       "      <td>-1.046261</td>\n",
       "    </tr>\n",
       "    <tr>\n",
       "      <th>Scheduled Deposit</th>\n",
       "      <td>NaN</td>\n",
       "      <td>2.799890</td>\n",
       "      <td>35.447263</td>\n",
       "      <td>-0.335140</td>\n",
       "      <td>-0.454950</td>\n",
       "    </tr>\n",
       "    <tr>\n",
       "      <th rowspan=\"2\" valign=\"top\">Northeast</th>\n",
       "      <th>Actual Deposit</th>\n",
       "      <td>NaN</td>\n",
       "      <td>3.733553</td>\n",
       "      <td>38.163945</td>\n",
       "      <td>-0.550838</td>\n",
       "      <td>-1.592430</td>\n",
       "    </tr>\n",
       "    <tr>\n",
       "      <th>Scheduled Deposit</th>\n",
       "      <td>NaN</td>\n",
       "      <td>2.605210</td>\n",
       "      <td>38.146034</td>\n",
       "      <td>-1.816204</td>\n",
       "      <td>-1.251661</td>\n",
       "    </tr>\n",
       "    <tr>\n",
       "      <th rowspan=\"2\" valign=\"top\">South</th>\n",
       "      <th>Actual Deposit</th>\n",
       "      <td>NaN</td>\n",
       "      <td>2.651077</td>\n",
       "      <td>30.449983</td>\n",
       "      <td>-0.380392</td>\n",
       "      <td>-0.650872</td>\n",
       "    </tr>\n",
       "    <tr>\n",
       "      <th>Scheduled Deposit</th>\n",
       "      <td>NaN</td>\n",
       "      <td>1.723771</td>\n",
       "      <td>32.207113</td>\n",
       "      <td>-3.196455</td>\n",
       "      <td>-0.866367</td>\n",
       "    </tr>\n",
       "    <tr>\n",
       "      <th rowspan=\"2\" valign=\"top\">West</th>\n",
       "      <th>Actual Deposit</th>\n",
       "      <td>NaN</td>\n",
       "      <td>3.705574</td>\n",
       "      <td>35.877770</td>\n",
       "      <td>0.058239</td>\n",
       "      <td>-1.249161</td>\n",
       "    </tr>\n",
       "    <tr>\n",
       "      <th>Scheduled Deposit</th>\n",
       "      <td>NaN</td>\n",
       "      <td>3.034884</td>\n",
       "      <td>37.134635</td>\n",
       "      <td>-1.876312</td>\n",
       "      <td>-1.140605</td>\n",
       "    </tr>\n",
       "  </tbody>\n",
       "</table>\n",
       "</div>"
      ],
      "text/plain": [
       "month_name                                    Month 1   Month 2    Month 3  \\\n",
       "client_geographical_region deposit_type                                      \n",
       "Midwest                    Actual Deposit         NaN  4.030738  34.076655   \n",
       "                           Scheduled Deposit      NaN  2.799890  35.447263   \n",
       "Northeast                  Actual Deposit         NaN  3.733553  38.163945   \n",
       "                           Scheduled Deposit      NaN  2.605210  38.146034   \n",
       "South                      Actual Deposit         NaN  2.651077  30.449983   \n",
       "                           Scheduled Deposit      NaN  1.723771  32.207113   \n",
       "West                       Actual Deposit         NaN  3.705574  35.877770   \n",
       "                           Scheduled Deposit      NaN  3.034884  37.134635   \n",
       "\n",
       "month_name                                     Month 4   Month 5  \n",
       "client_geographical_region deposit_type                           \n",
       "Midwest                    Actual Deposit     1.340956 -1.046261  \n",
       "                           Scheduled Deposit -0.335140 -0.454950  \n",
       "Northeast                  Actual Deposit    -0.550838 -1.592430  \n",
       "                           Scheduled Deposit -1.816204 -1.251661  \n",
       "South                      Actual Deposit    -0.380392 -0.650872  \n",
       "                           Scheduled Deposit -3.196455 -0.866367  \n",
       "West                       Actual Deposit     0.058239 -1.249161  \n",
       "                           Scheduled Deposit -1.876312 -1.140605  "
      ]
     },
     "execution_count": 286,
     "metadata": {},
     "output_type": "execute_result"
    }
   ],
   "source": [
    "# View month over month deposit type by region\n",
    "df.groupby(['client_geographical_region', 'deposit_type', 'month_name']).deposit_type.count().unstack().pct_change(axis='columns')*100"
   ]
  },
  {
   "cell_type": "code",
   "execution_count": 287,
   "metadata": {},
   "outputs": [
    {
     "data": {
      "text/plain": [
       "<matplotlib.axes._subplots.AxesSubplot at 0x7f8f1a6c7b90>"
      ]
     },
     "execution_count": 287,
     "metadata": {},
     "output_type": "execute_result"
    },
    {
     "data": {
      "image/png": "[encoded data removed]",
      "text/plain": [
       "<Figure size 432x288 with 1 Axes>"
      ]
     },
     "metadata": {
      "needs_background": "light"
     },
     "output_type": "display_data"
    }
   ],
   "source": [
    "# Store month over month deposit type by region in a variable\n",
    "month_over_month_deposit = df.groupby(['client_geographical_region', 'deposit_type', 'month_name']).deposit_type.count().unstack().pct_change(axis='columns')*100\n",
    "\n",
    "# Graph month over month deposit type by region\n",
    "month_over_month_deposit.plot(kind='bar', title='Month Over Month Deposit Type by Region')"
   ]
  },
  {
   "cell_type": "code",
   "execution_count": 288,
   "metadata": {},
   "outputs": [
    {
     "data": {
      "text/plain": [
       "<matplotlib.axes._subplots.AxesSubplot at 0x7f8eeb4a0290>"
      ]
     },
     "execution_count": 288,
     "metadata": {},
     "output_type": "execute_result"
    },
    {
     "data": {
      "image/png": "[encoded data removed]",
      "text/plain": [
       "<Figure size 432x288 with 1 Axes>"
      ]
     },
     "metadata": {
      "needs_background": "light"
     },
     "output_type": "display_data"
    }
   ],
   "source": [
    "# View the deposit type as a bar chart\n",
    "df['deposit_type'].value_counts().plot(kind='bar')"
   ]
  },
  {
   "cell_type": "code",
   "execution_count": 289,
   "metadata": {},
   "outputs": [
    {
     "data": {
      "text/html": [
       "<div>\n",
       "<style scoped>\n",
       "    .dataframe tbody tr th:only-of-type {\n",
       "        vertical-align: middle;\n",
       "    }\n",
       "\n",
       "    .dataframe tbody tr th {\n",
       "        vertical-align: top;\n",
       "    }\n",
       "\n",
       "    .dataframe thead th {\n",
       "        text-align: right;\n",
       "    }\n",
       "</style>\n",
       "<table border=\"1\" class=\"dataframe\">\n",
       "  <thead>\n",
       "    <tr style=\"text-align: right;\">\n",
       "      <th></th>\n",
       "      <th>month_name</th>\n",
       "      <th>Month 1</th>\n",
       "      <th>Month 2</th>\n",
       "      <th>Month 3</th>\n",
       "      <th>Month 4</th>\n",
       "      <th>Month 5</th>\n",
       "    </tr>\n",
       "    <tr>\n",
       "      <th>client_geographical_region</th>\n",
       "      <th>deposit_cadence</th>\n",
       "      <th></th>\n",
       "      <th></th>\n",
       "      <th></th>\n",
       "      <th></th>\n",
       "      <th></th>\n",
       "    </tr>\n",
       "  </thead>\n",
       "  <tbody>\n",
       "    <tr>\n",
       "      <th rowspan=\"3\" valign=\"top\">Midwest</th>\n",
       "      <th>Biweekly</th>\n",
       "      <td>NaN</td>\n",
       "      <td>3.225327</td>\n",
       "      <td>33.966883</td>\n",
       "      <td>2.214101</td>\n",
       "      <td>-0.315457</td>\n",
       "    </tr>\n",
       "    <tr>\n",
       "      <th>Extra</th>\n",
       "      <td>NaN</td>\n",
       "      <td>32.142857</td>\n",
       "      <td>51.351351</td>\n",
       "      <td>-16.326531</td>\n",
       "      <td>-5.182927</td>\n",
       "    </tr>\n",
       "    <tr>\n",
       "      <th>Monthly</th>\n",
       "      <td>NaN</td>\n",
       "      <td>2.782752</td>\n",
       "      <td>34.955100</td>\n",
       "      <td>-0.466779</td>\n",
       "      <td>-1.007783</td>\n",
       "    </tr>\n",
       "    <tr>\n",
       "      <th rowspan=\"3\" valign=\"top\">Northeast</th>\n",
       "      <th>Biweekly</th>\n",
       "      <td>NaN</td>\n",
       "      <td>3.127102</td>\n",
       "      <td>37.691555</td>\n",
       "      <td>-0.153919</td>\n",
       "      <td>-1.399265</td>\n",
       "    </tr>\n",
       "    <tr>\n",
       "      <th>Extra</th>\n",
       "      <td>NaN</td>\n",
       "      <td>24.342105</td>\n",
       "      <td>92.592593</td>\n",
       "      <td>-17.582418</td>\n",
       "      <td>-1.666667</td>\n",
       "    </tr>\n",
       "    <tr>\n",
       "      <th>Monthly</th>\n",
       "      <td>NaN</td>\n",
       "      <td>2.675120</td>\n",
       "      <td>37.033133</td>\n",
       "      <td>-1.516650</td>\n",
       "      <td>-1.428412</td>\n",
       "    </tr>\n",
       "    <tr>\n",
       "      <th rowspan=\"3\" valign=\"top\">South</th>\n",
       "      <th>Biweekly</th>\n",
       "      <td>NaN</td>\n",
       "      <td>3.023699</td>\n",
       "      <td>28.291909</td>\n",
       "      <td>-0.144270</td>\n",
       "      <td>-0.526316</td>\n",
       "    </tr>\n",
       "    <tr>\n",
       "      <th>Extra</th>\n",
       "      <td>NaN</td>\n",
       "      <td>17.803030</td>\n",
       "      <td>68.488746</td>\n",
       "      <td>-12.213740</td>\n",
       "      <td>-6.086957</td>\n",
       "    </tr>\n",
       "    <tr>\n",
       "      <th>Monthly</th>\n",
       "      <td>NaN</td>\n",
       "      <td>1.169703</td>\n",
       "      <td>32.467779</td>\n",
       "      <td>-2.647017</td>\n",
       "      <td>-0.749559</td>\n",
       "    </tr>\n",
       "    <tr>\n",
       "      <th rowspan=\"3\" valign=\"top\">West</th>\n",
       "      <th>Biweekly</th>\n",
       "      <td>NaN</td>\n",
       "      <td>3.948517</td>\n",
       "      <td>34.641483</td>\n",
       "      <td>1.007949</td>\n",
       "      <td>-0.869297</td>\n",
       "    </tr>\n",
       "    <tr>\n",
       "      <th>Extra</th>\n",
       "      <td>NaN</td>\n",
       "      <td>6.846473</td>\n",
       "      <td>85.436893</td>\n",
       "      <td>-15.183246</td>\n",
       "      <td>-0.246914</td>\n",
       "    </tr>\n",
       "    <tr>\n",
       "      <th>Monthly</th>\n",
       "      <td>NaN</td>\n",
       "      <td>2.834051</td>\n",
       "      <td>36.623578</td>\n",
       "      <td>-1.862014</td>\n",
       "      <td>-1.465427</td>\n",
       "    </tr>\n",
       "  </tbody>\n",
       "</table>\n",
       "</div>"
      ],
      "text/plain": [
       "month_name                                  Month 1    Month 2    Month 3  \\\n",
       "client_geographical_region deposit_cadence                                  \n",
       "Midwest                    Biweekly             NaN   3.225327  33.966883   \n",
       "                           Extra                NaN  32.142857  51.351351   \n",
       "                           Monthly              NaN   2.782752  34.955100   \n",
       "Northeast                  Biweekly             NaN   3.127102  37.691555   \n",
       "                           Extra                NaN  24.342105  92.592593   \n",
       "                           Monthly              NaN   2.675120  37.033133   \n",
       "South                      Biweekly             NaN   3.023699  28.291909   \n",
       "                           Extra                NaN  17.803030  68.488746   \n",
       "                           Monthly              NaN   1.169703  32.467779   \n",
       "West                       Biweekly             NaN   3.948517  34.641483   \n",
       "                           Extra                NaN   6.846473  85.436893   \n",
       "                           Monthly              NaN   2.834051  36.623578   \n",
       "\n",
       "month_name                                    Month 4   Month 5  \n",
       "client_geographical_region deposit_cadence                       \n",
       "Midwest                    Biweekly          2.214101 -0.315457  \n",
       "                           Extra           -16.326531 -5.182927  \n",
       "                           Monthly          -0.466779 -1.007783  \n",
       "Northeast                  Biweekly         -0.153919 -1.399265  \n",
       "                           Extra           -17.582418 -1.666667  \n",
       "                           Monthly          -1.516650 -1.428412  \n",
       "South                      Biweekly         -0.144270 -0.526316  \n",
       "                           Extra           -12.213740 -6.086957  \n",
       "                           Monthly          -2.647017 -0.749559  \n",
       "West                       Biweekly          1.007949 -0.869297  \n",
       "                           Extra           -15.183246 -0.246914  \n",
       "                           Monthly          -1.862014 -1.465427  "
      ]
     },
     "execution_count": 289,
     "metadata": {},
     "output_type": "execute_result"
    }
   ],
   "source": [
    "# View month over month deposit cadence by region\n",
    "df.groupby(['client_geographical_region', 'deposit_cadence', 'month_name']).deposit_cadence.count().unstack().pct_change(axis='columns')*100"
   ]
  },
  {
   "cell_type": "code",
   "execution_count": 290,
   "metadata": {},
   "outputs": [
    {
     "data": {
      "text/plain": [
       "<matplotlib.axes._subplots.AxesSubplot at 0x7f8f4eac7ad0>"
      ]
     },
     "execution_count": 290,
     "metadata": {},
     "output_type": "execute_result"
    },
    {
     "data": {
      "image/png": "[encoded data removed]",
      "text/plain": [
       "<Figure size 432x288 with 1 Axes>"
      ]
     },
     "metadata": {
      "needs_background": "light"
     },
     "output_type": "display_data"
    }
   ],
   "source": [
    "# Store month over month deposit cadence by region in a variable\n",
    "month_over_month_cadence = df.groupby(['client_geographical_region', 'deposit_cadence', 'month_name']).deposit_cadence.count().unstack().pct_change(axis='columns')*100\n",
    "\n",
    "# Graph month over month deposit cadence by region\n",
    "month_over_month_cadence.plot(kind='bar', title='Month Over Month Deposit Cadence by Region')"
   ]
  },
  {
   "cell_type": "code",
   "execution_count": 291,
   "metadata": {},
   "outputs": [
    {
     "data": {
      "text/plain": [
       "<matplotlib.axes._subplots.AxesSubplot at 0x7f8f2e2abbd0>"
      ]
     },
     "execution_count": 291,
     "metadata": {},
     "output_type": "execute_result"
    },
    {
     "data": {
      "image/png": "[encoded data removed]",
      "text/plain": [
       "<Figure size 432x288 with 1 Axes>"
      ]
     },
     "metadata": {
      "needs_background": "light"
     },
     "output_type": "display_data"
    }
   ],
   "source": [
    "# Graph the deposit cadence each month\n",
    "df.groupby('month_name').deposit_cadence.count().plot(kind='line', title='Deposit Cadence Each Month')"
   ]
  },
  {
   "cell_type": "code",
   "execution_count": 292,
   "metadata": {},
   "outputs": [
    {
     "data": {
      "text/plain": [
       "<matplotlib.axes._subplots.AxesSubplot at 0x7f8eeb57a550>"
      ]
     },
     "execution_count": 292,
     "metadata": {},
     "output_type": "execute_result"
    },
    {
     "data": {
      "image/png": "[encoded data removed]",
      "text/plain": [
       "<Figure size 432x288 with 1 Axes>"
      ]
     },
     "metadata": {
      "needs_background": "light"
     },
     "output_type": "display_data"
    }
   ],
   "source": [
    "# Plot the number of unique clients by month\n",
    "df.groupby('month_name').client_id.nunique().plot(kind='line', title='Number of Unique Clients by Month')"
   ]
  },
  {
   "cell_type": "code",
   "execution_count": 293,
   "metadata": {},
   "outputs": [
    {
     "data": {
      "text/plain": [
       "<matplotlib.axes._subplots.AxesSubplot at 0x7f8eeb57a950>"
      ]
     },
     "execution_count": 293,
     "metadata": {},
     "output_type": "execute_result"
    },
    {
     "data": {
      "image/png": "[encoded data removed]",
      "text/plain": [
       "<Figure size 432x288 with 1 Axes>"
      ]
     },
     "metadata": {
      "needs_background": "light"
     },
     "output_type": "display_data"
    }
   ],
   "source": [
    "# Plot the number of clients by month\n",
    "df.groupby('month_name').client_id.count().plot(kind='line', title='Number of Clients by Month')"
   ]
  },
  {
   "cell_type": "code",
   "execution_count": 294,
   "metadata": {},
   "outputs": [
    {
     "data": {
      "text/plain": [
       "<matplotlib.axes._subplots.AxesSubplot at 0x7f8f2e253c10>"
      ]
     },
     "execution_count": 294,
     "metadata": {},
     "output_type": "execute_result"
    },
    {
     "data": {
      "image/png": "[encoded data removed]",
      "text/plain": [
       "<Figure size 432x288 with 1 Axes>"
      ]
     },
     "metadata": {
      "needs_background": "light"
     },
     "output_type": "display_data"
    }
   ],
   "source": [
    "# Plot the sum of deposits that occurred each month\n",
    "df.groupby('month_name').deposit_amount.sum().plot(kind='line', title='Sum of Deposits by Month')"
   ]
  },
  {
   "cell_type": "code",
   "execution_count": 295,
   "metadata": {},
   "outputs": [
    {
     "data": {
      "text/plain": [
       "month_name\n",
       "Month 1           NaN\n",
       "Month 2     601600.41\n",
       "Month 3    9788625.83\n",
       "Month 4   -1159237.37\n",
       "Month 5    -434644.50\n",
       "Name: deposit_amount, dtype: float64"
      ]
     },
     "execution_count": 295,
     "metadata": {},
     "output_type": "execute_result"
    }
   ],
   "source": [
    "# View the change in deposits from month to month\n",
    "df.groupby('month_name').deposit_amount.sum().diff()"
   ]
  },
  {
   "cell_type": "code",
   "execution_count": 296,
   "metadata": {},
   "outputs": [
    {
     "data": {
      "text/plain": [
       "<matplotlib.axes._subplots.AxesSubplot at 0x7f8f2e24d090>"
      ]
     },
     "execution_count": 296,
     "metadata": {},
     "output_type": "execute_result"
    },
    {
     "data": {
      "image/png": "[encoded data removed]",
      "text/plain": [
       "<Figure size 432x288 with 1 Axes>"
      ]
     },
     "metadata": {
      "needs_background": "light"
     },
     "output_type": "display_data"
    }
   ],
   "source": [
    "# Plot average deposit amount by month\n",
    "df.groupby('month_name').deposit_amount.mean().plot(kind='line', title='Average Deposit Amount by Month')"
   ]
  },
  {
   "cell_type": "code",
   "execution_count": 297,
   "metadata": {},
   "outputs": [
    {
     "data": {
      "text/plain": [
       "count    480394.000000\n",
       "mean        365.207130\n",
       "std         346.644434\n",
       "min           0.010000\n",
       "25%         200.000000\n",
       "50%         290.000000\n",
       "75%         452.000000\n",
       "max       30000.000000\n",
       "Name: deposit_amount, dtype: float64"
      ]
     },
     "execution_count": 297,
     "metadata": {},
     "output_type": "execute_result"
    }
   ],
   "source": [
    "# Show summary statistics for deposit amount\n",
    "df['deposit_amount'].describe()\n"
   ]
  },
  {
   "cell_type": "code",
   "execution_count": 298,
   "metadata": {},
   "outputs": [
    {
     "data": {
      "text/plain": [
       "<matplotlib.axes._subplots.AxesSubplot at 0x7f8ee8848190>"
      ]
     },
     "execution_count": 298,
     "metadata": {},
     "output_type": "execute_result"
    },
    {
     "data": {
      "image/png": "[encoded data removed]",
      "text/plain": [
       "<Figure size 432x288 with 1 Axes>"
      ]
     },
     "metadata": {
      "needs_background": "light"
     },
     "output_type": "display_data"
    }
   ],
   "source": [
    "# View the distribution of deposit amount\n",
    "# Adjust the x-axis to see the distribution\n",
    "df['deposit_amount'].plot.hist(bins=100, xlim=(0, 2500))"
   ]
  },
  {
   "attachments": {},
   "cell_type": "markdown",
   "metadata": {},
   "source": [
    "## Question 1 \n",
    "### Determine if the Marketing Campaign was a Success\n",
    "\n",
    "To determine the success of the marketing campaign the following metric were evaluated:\n",
    "- Number of Unique Clients Per Month\n",
    "- Total Deposits Per Month\n",
    "- Deposit Cadence Per Month\n",
    "- Deposit Type Per Month"
   ]
  },
  {
   "cell_type": "code",
   "execution_count": 299,
   "metadata": {},
   "outputs": [
    {
     "data": {
      "image/png": "[encoded data removed]",
      "text/plain": [
       "<Figure size 432x288 with 1 Axes>"
      ]
     },
     "metadata": {
      "needs_background": "light"
     },
     "output_type": "display_data"
    }
   ],
   "source": [
    "# Plot the deposit amount by month as a line graph\n",
    "df.groupby('month_name').deposit_amount.sum().plot(kind='line', title='Deposit Amount by Month')\n",
    "\n",
    "plt.ylabel('Deposit Amount')\n",
    "plt.xlabel('')\n",
    "plt.show()"
   ]
  },
  {
   "cell_type": "code",
   "execution_count": 300,
   "metadata": {},
   "outputs": [
    {
     "name": "stdout",
     "output_type": "stream",
     "text": [
      "month_name\n",
      "Month 1    29284830.86\n",
      "Month 2    29886431.27\n",
      "Month 3    39675057.10\n",
      "Month 4    38515819.73\n",
      "Month 5    38081175.23\n",
      "Name: deposit_amount, dtype: float64\n"
     ]
    }
   ],
   "source": [
    "# Print the sum of deposits each month\n",
    "print(df.groupby('month_name').deposit_amount.sum())"
   ]
  },
  {
   "cell_type": "markdown",
   "metadata": {},
   "source": [
    "On average, Freedom debt relief charges a fee if 21.5% of the total amount of debt that they settle for their clients."
   ]
  },
  {
   "cell_type": "code",
   "execution_count": 301,
   "metadata": {},
   "outputs": [
    {
     "name": "stdout",
     "output_type": "stream",
     "text": [
      "month_name\n",
      "Month 1    6.296239e+06\n",
      "Month 2    6.425583e+06\n",
      "Month 3    8.530137e+06\n",
      "Month 4    8.280901e+06\n",
      "Month 5    8.187453e+06\n",
      "Name: deposit_amount, dtype: float64\n"
     ]
    }
   ],
   "source": [
    "# Print the profit each month (deposit_amount * 0.215)\n",
    "profit_per_month = df.groupby('month_name').deposit_amount.sum() * 0.215\n",
    "\n",
    "# Print the profit each month\n",
    "print(profit_per_month)"
   ]
  },
  {
   "cell_type": "code",
   "execution_count": 302,
   "metadata": {},
   "outputs": [
    {
     "name": "stdout",
     "output_type": "stream",
     "text": [
      "Profit increase between month 3 and month 2: 2,104,554.55\n",
      "Profit increase between month 4 and month 2: 1,855,318.52\n",
      "Profit increase between month 5 and month 2: 1,761,869.95\n",
      "Average profit increase: 1,907,247.67 per month\n",
      "Total profit increase: 5,721,743.02 over 3 months\n"
     ]
    }
   ],
   "source": [
    "# Find the difference in profit between month 3 and month 2\n",
    "month_3_profit_increase = profit_per_month[\"Month 3\"] - profit_per_month[\"Month 2\"]\n",
    "\n",
    "# Find the difference in profit between month 4 and month 2\n",
    "month_4_profit_increase = profit_per_month[\"Month 4\"] - profit_per_month[\"Month 2\"]\n",
    "\n",
    "# Find the difference in profit between month 5 and month 2\n",
    "month_5_profit_increase = profit_per_month[\"Month 5\"] - profit_per_month[\"Month 2\"]\n",
    "\n",
    "# Print the profit increase from before, during, and after marketing campaign\n",
    "print(f'Profit increase between month 3 and month 2: {month_3_profit_increase:,.2f}')\n",
    "print(f'Profit increase between month 4 and month 2: {month_4_profit_increase:,.2f}')\n",
    "print(f'Profit increase between month 5 and month 2: {month_5_profit_increase:,.2f}')\n",
    "\n",
    "# Determine average profit increase for months 3, 4, and 5\n",
    "average_profit_increase = (month_3_profit_increase + month_4_profit_increase + month_5_profit_increase) / 3\n",
    "\n",
    "# Print the average profit increase\n",
    "print(f'Average profit increase: {average_profit_increase:,.2f} per month')\n",
    "\n",
    "# Determine total profit for months 3, 4, and 5\n",
    "total_profit_increase = month_3_profit_increase + month_4_profit_increase + month_5_profit_increase\n",
    "\n",
    "# Print the total profit increase\n",
    "print(f'Total profit increase: {total_profit_increase:,.2f} over 3 months')\n"
   ]
  },
  {
   "attachments": {},
   "cell_type": "markdown",
   "metadata": {},
   "source": [
    "- We can see that, on average, the marketing campaign boosted profits by rougly $1.9 million per month. \n",
    "\n",
    "- Over month's 3, 4, and 5 the total profit was rougly $5.7 million. Given that the cost of the marketing campaign was $5 million we can see a $700,000 increase.\n",
    "\n",
    "- To further understand the cost/benefits of the marketing campaign, lets take a look at total profits over a 12 month period with or without the campaign. \n",
    "\n",
    "- We will calculate the average profit pre and post campaign and use these values to determine how much we expect total profit to increase each month."
   ]
  },
  {
   "cell_type": "code",
   "execution_count": 303,
   "metadata": {},
   "outputs": [
    {
     "name": "stdout",
     "output_type": "stream",
     "text": [
      "Average profit before the marketing campaign: 6,360,910.68\n",
      "Average profit after the marketing campaign: 8,332,830.40\n"
     ]
    }
   ],
   "source": [
    "# Average profit for months 1 and 2\n",
    "avg_profit_before = (profit_per_month[\"Month 1\"] + profit_per_month[\"Month 2\"]) / 2\n",
    "\n",
    "# Average profit for months 3, 4, and 5\n",
    "avg_profit_after = (profit_per_month[\"Month 3\"] + profit_per_month[\"Month 4\"] + profit_per_month[\"Month 5\"]) / 3\n",
    "\n",
    "\n",
    "# Print the average profit before and after the marketing campaign\n",
    "print(f'Average profit before the marketing campaign: {avg_profit_before:,.2f}')\n",
    "print(f'Average profit after the marketing campaign: {avg_profit_after:,.2f}')"
   ]
  },
  {
   "cell_type": "code",
   "execution_count": 304,
   "metadata": {},
   "outputs": [
    {
     "data": {
      "text/html": [
       "<div>\n",
       "<style scoped>\n",
       "    .dataframe tbody tr th:only-of-type {\n",
       "        vertical-align: middle;\n",
       "    }\n",
       "\n",
       "    .dataframe tbody tr th {\n",
       "        vertical-align: top;\n",
       "    }\n",
       "\n",
       "    .dataframe thead th {\n",
       "        text-align: right;\n",
       "    }\n",
       "</style>\n",
       "<table border=\"1\" class=\"dataframe\">\n",
       "  <thead>\n",
       "    <tr style=\"text-align: right;\">\n",
       "      <th></th>\n",
       "      <th>no_campaign</th>\n",
       "      <th>campaign</th>\n",
       "      <th>difference</th>\n",
       "    </tr>\n",
       "    <tr>\n",
       "      <th>month</th>\n",
       "      <th></th>\n",
       "      <th></th>\n",
       "      <th></th>\n",
       "    </tr>\n",
       "  </thead>\n",
       "  <tbody>\n",
       "    <tr>\n",
       "      <th>Month 1</th>\n",
       "      <td>0.0</td>\n",
       "      <td>-5000000.0</td>\n",
       "      <td>-5000000.0</td>\n",
       "    </tr>\n",
       "    <tr>\n",
       "      <th>Month 2</th>\n",
       "      <td>6300000.0</td>\n",
       "      <td>3200000.0</td>\n",
       "      <td>-3100000.0</td>\n",
       "    </tr>\n",
       "    <tr>\n",
       "      <th>Month 3</th>\n",
       "      <td>12600000.0</td>\n",
       "      <td>11400000.0</td>\n",
       "      <td>-1200000.0</td>\n",
       "    </tr>\n",
       "    <tr>\n",
       "      <th>Month 4</th>\n",
       "      <td>18900000.0</td>\n",
       "      <td>19600000.0</td>\n",
       "      <td>700000.0</td>\n",
       "    </tr>\n",
       "    <tr>\n",
       "      <th>Month 5</th>\n",
       "      <td>25200000.0</td>\n",
       "      <td>27800000.0</td>\n",
       "      <td>2600000.0</td>\n",
       "    </tr>\n",
       "    <tr>\n",
       "      <th>Month 6</th>\n",
       "      <td>31500000.0</td>\n",
       "      <td>36000000.0</td>\n",
       "      <td>4500000.0</td>\n",
       "    </tr>\n",
       "    <tr>\n",
       "      <th>Month 7</th>\n",
       "      <td>37800000.0</td>\n",
       "      <td>44200000.0</td>\n",
       "      <td>6400000.0</td>\n",
       "    </tr>\n",
       "    <tr>\n",
       "      <th>Month 8</th>\n",
       "      <td>44100000.0</td>\n",
       "      <td>52400000.0</td>\n",
       "      <td>8300000.0</td>\n",
       "    </tr>\n",
       "    <tr>\n",
       "      <th>Month 9</th>\n",
       "      <td>50400000.0</td>\n",
       "      <td>60600000.0</td>\n",
       "      <td>10200000.0</td>\n",
       "    </tr>\n",
       "    <tr>\n",
       "      <th>Month 10</th>\n",
       "      <td>56700000.0</td>\n",
       "      <td>68800000.0</td>\n",
       "      <td>12100000.0</td>\n",
       "    </tr>\n",
       "    <tr>\n",
       "      <th>Month 11</th>\n",
       "      <td>63000000.0</td>\n",
       "      <td>77000000.0</td>\n",
       "      <td>14000000.0</td>\n",
       "    </tr>\n",
       "    <tr>\n",
       "      <th>Month 12</th>\n",
       "      <td>69300000.0</td>\n",
       "      <td>85200000.0</td>\n",
       "      <td>15900000.0</td>\n",
       "    </tr>\n",
       "  </tbody>\n",
       "</table>\n",
       "</div>"
      ],
      "text/plain": [
       "          no_campaign    campaign  difference\n",
       "month                                        \n",
       "Month 1           0.0  -5000000.0  -5000000.0\n",
       "Month 2     6300000.0   3200000.0  -3100000.0\n",
       "Month 3    12600000.0  11400000.0  -1200000.0\n",
       "Month 4    18900000.0  19600000.0    700000.0\n",
       "Month 5    25200000.0  27800000.0   2600000.0\n",
       "Month 6    31500000.0  36000000.0   4500000.0\n",
       "Month 7    37800000.0  44200000.0   6400000.0\n",
       "Month 8    44100000.0  52400000.0   8300000.0\n",
       "Month 9    50400000.0  60600000.0  10200000.0\n",
       "Month 10   56700000.0  68800000.0  12100000.0\n",
       "Month 11   63000000.0  77000000.0  14000000.0\n",
       "Month 12   69300000.0  85200000.0  15900000.0"
      ]
     },
     "execution_count": 304,
     "metadata": {},
     "output_type": "execute_result"
    }
   ],
   "source": [
    "# Create a dataframe with 12 rows and 2 columns\n",
    "hypothetical_df = pd.DataFrame(np.zeros((12, 2)), columns=['no_campaign', 'campaign'])\n",
    "\n",
    "# Set the starting value for no_campaign to 0\n",
    "hypothetical_df['no_campaign'][0] = 0\n",
    "\n",
    "# Set the starting value for campaign to -5,000,000\n",
    "hypothetical_df['campaign'][0] = -5000000\n",
    "\n",
    "# Set the value for month 1 for no campaign to 6,300,000 and campaign to the value of month 0 + 8,200,000\n",
    "hypothetical_df['no_campaign'][1] = 6300000\n",
    "hypothetical_df['campaign'][1] = hypothetical_df['campaign'][0] + 8200000\n",
    "\n",
    "# Create a for loop to calculate the value for each month based on the previous month\n",
    "\n",
    "for i in range(2, 12):\n",
    "    hypothetical_df['no_campaign'][i] = hypothetical_df['no_campaign'][i-1] + 6300000\n",
    "    hypothetical_df['campaign'][i] = hypothetical_df['campaign'][i-1] + 8200000\n",
    "\n",
    "# Create a column for the difference in profit between the two scenarios\n",
    "hypothetical_df['difference'] = hypothetical_df['campaign'] - hypothetical_df['no_campaign']\n",
    "\n",
    "# Add 1 to each value in the index\n",
    "hypothetical_df.index = hypothetical_df.index + 1\n",
    "\n",
    "# Change the index name to month\n",
    "hypothetical_df.index.name = 'month'\n",
    "\n",
    "# Change values of month to Month 1, Month 2, etc.\n",
    "hypothetical_df.index = hypothetical_df.index.map(lambda x: f'Month {x}')\n",
    "\n",
    "# View hypothetical_df\n",
    "hypothetical_df"
   ]
  },
  {
   "attachments": {},
   "cell_type": "markdown",
   "metadata": {},
   "source": [
    "We can see that by the 4th month the campaign is netting greater profit. In addition, the yearly difference would be $15,900,000 if our assumptions on profit per month are accurate."
   ]
  },
  {
   "cell_type": "code",
   "execution_count": 305,
   "metadata": {},
   "outputs": [
    {
     "data": {
      "image/png": "[encoded data removed]",
      "text/plain": [
       "<Figure size 720x360 with 1 Axes>"
      ]
     },
     "metadata": {
      "needs_background": "light"
     },
     "output_type": "display_data"
    }
   ],
   "source": [
    "# Plot the hypothetical_df\n",
    "hypothetical_df.plot(\n",
    "    kind='line',\n",
    "    figsize=(10, 5), \n",
    "    title='Hypothetical Profit',\n",
    "    ylabel='Total Profit (Millions)',\n",
    "    xlabel='',\n",
    "    ylim=(-5000000, 100000000),\n",
    "    yticks=np.arange(-5000000, 100000000, 10000000),\n",
    "    xlim=(0, 12),\n",
    "    xticks=np.arange(0, 12, 1),\n",
    "    rot=45,\n",
    "    )\n",
    "\n",
    "plt.show()"
   ]
  },
  {
   "cell_type": "code",
   "execution_count": 306,
   "metadata": {},
   "outputs": [
    {
     "data": {
      "image/png": "[encoded data removed]",
      "text/plain": [
       "<Figure size 432x288 with 1 Axes>"
      ]
     },
     "metadata": {
      "needs_background": "light"
     },
     "output_type": "display_data"
    }
   ],
   "source": [
    "# Create a line graph of the number of clients each month\n",
    "df.groupby('month_name').client_id.count().plot(kind='line', title='Number of Clients by Month')\n",
    "\n",
    "plt.ylabel('Number of Clients')\n",
    "plt.xlabel('')\n",
    "\n",
    "plt.show()"
   ]
  },
  {
   "cell_type": "code",
   "execution_count": 307,
   "metadata": {},
   "outputs": [
    {
     "name": "stdout",
     "output_type": "stream",
     "text": [
      "Unique clients prior to the start of the marketing campaign 34051\n",
      "Unique clients immediately after the marketing campaign: 43806\n",
      "There was an increase of 9755 clients over the course of the marketing campaign.\n"
     ]
    }
   ],
   "source": [
    "# Create a variable that stores unique clients from months 1 and 2\n",
    "month_1_2 = df[df['month_name'].isin(['Month 1', 'Month 2'])].client_id.unique()\n",
    "\n",
    "# Create a variable that stores unique clients from month 3\n",
    "month_3 = df[df['month_name'].isin(['Month 3'])].client_id.unique()\n",
    "\n",
    "\n",
    "# Print values\n",
    "print(f'Unique clients prior to the start of the marketing campaign {len(month_1_2)}')\n",
    "print(f'Unique clients immediately after the marketing campaign: {len(month_3)}')\n",
    "\n",
    "# Print difference in unique clients over the course of the marketing campaign\n",
    "print(f'There was an increase of {len(month_3) - len(month_1_2)} clients over the course of the marketing campaign.')"
   ]
  },
  {
   "cell_type": "code",
   "execution_count": 308,
   "metadata": {},
   "outputs": [
    {
     "data": {
      "image/png": "[encoded data removed]",
      "text/plain": [
       "<Figure size 432x288 with 1 Axes>"
      ]
     },
     "metadata": {
      "needs_background": "light"
     },
     "output_type": "display_data"
    }
   ],
   "source": [
    "# Create a line graph of the number of deposits each month\n",
    "df.groupby('month_name').deposit_amount.count().plot(kind='line', title='Number of Deposits by Month')\n",
    "\n",
    "plt.ylabel('Number of Deposits')\n",
    "plt.xlabel('')\n",
    "\n",
    "plt.show()"
   ]
  },
  {
   "cell_type": "code",
   "execution_count": 309,
   "metadata": {},
   "outputs": [
    {
     "name": "stdout",
     "output_type": "stream",
     "text": [
      "Unique deposits prior to the start of the marketing campaign 1757\n",
      "Unique deposits immediately after the marketing campaign: 2090\n",
      "There was an increase of 333 deposits over the course of the marketing campaign.\n"
     ]
    }
   ],
   "source": [
    "# Create a variable that stores unique deposits from months 1 and 2\n",
    "month_1_2 = df[df['month_name'].isin(['Month 1', 'Month 2'])].deposit_amount.unique()\n",
    "\n",
    "# Create a variable that stores unique deposits from month 3\n",
    "month_3 = df[df['month_name'].isin(['Month 3'])].deposit_amount.unique()\n",
    "\n",
    "# Print values\n",
    "print(f'Unique deposits prior to the start of the marketing campaign {len(month_1_2)}')\n",
    "print(f'Unique deposits immediately after the marketing campaign: {len(month_3)}')\n",
    "\n",
    "# Print difference in unique deposits over the course of the marketing campaign\n",
    "print(f'There was an increase of {len(month_3) - len(month_1_2)} deposits over the course of the marketing campaign.')"
   ]
  },
  {
   "cell_type": "code",
   "execution_count": 310,
   "metadata": {},
   "outputs": [
    {
     "data": {
      "image/png": "[encoded data removed]",
      "text/plain": [
       "<Figure size 432x288 with 1 Axes>"
      ]
     },
     "metadata": {
      "needs_background": "light"
     },
     "output_type": "display_data"
    }
   ],
   "source": [
    "# Create a line graph that visualizes the number of deposits by deposit type each month\n",
    "df.groupby(['month_name', 'deposit_type']).deposit_type.count().unstack().plot(kind='line', title='Number of Deposits by Deposit Type Each Month')\n",
    "\n",
    "plt.ylabel('Number of Deposits')\n",
    "plt.xlabel('')\n",
    "\n",
    "plt.show()"
   ]
  },
  {
   "attachments": {},
   "cell_type": "markdown",
   "metadata": {},
   "source": [
    "## Question 2\n",
    "### How can the marketing campaign be improved?\n",
    "\n",
    "Overall, the marketing campaign was very successful and showed significant increases across the areas measured. \n",
    "\n",
    "However, there are indicators that **targeted marketing** of certain groups may provide opportunities to increase the number of clients and the overall return at Freedom Debt Relief.\n",
    "\n",
    "- The groups that saw the largest percent increase as a result of the marketing campaign were:\n",
    "    - "
   ]
  },
  {
   "cell_type": "code",
   "execution_count": 311,
   "metadata": {},
   "outputs": [
    {
     "data": {
      "image/png": "[encoded data removed]",
      "text/plain": [
       "<Figure size 432x288 with 1 Axes>"
      ]
     },
     "metadata": {
      "needs_background": "light"
     },
     "output_type": "display_data"
    }
   ],
   "source": [
    "# Bin clients by age\n",
    "df['client_age'] = pd.cut(df['client_age'], \n",
    "                          bins=[0, 20, 30, 40, 50, 60, 70, 80, 90, 100], \n",
    "                          labels=['0-20', '21-30', '31-40', '41-50', '51-60', '61-70', '71-80', '81-90', '91-100'])\n",
    "\n",
    "# Create a graph that visualizes how unique clients are stratified by age\n",
    "df.groupby('client_age').client_id.nunique().plot(kind='bar', title='Number of Unique Clients by Age')\n",
    "\n",
    "plt.ylabel('Number of Unique Clients')\n",
    "plt.xlabel('')\n",
    "plt.show()\n"
   ]
  },
  {
   "cell_type": "code",
   "execution_count": 312,
   "metadata": {},
   "outputs": [
    {
     "data": {
      "image/png": "[encoded data removed]",
      "text/plain": [
       "<Figure size 432x288 with 1 Axes>"
      ]
     },
     "metadata": {
      "needs_background": "light"
     },
     "output_type": "display_data"
    }
   ],
   "source": [
    "# Create a graph that visualizes how total deposit amount are stratified by age over each month\n",
    "df.groupby(['month_name', 'client_age']).deposit_amount.sum().unstack().plot(kind='line', title='Total Deposit Amount by Age Each Month')\n",
    "\n",
    "# Move legend to the right\n",
    "plt.legend(bbox_to_anchor=(1.05, 1), loc=2, borderaxespad=0.)\n",
    "\n",
    "# Add labels\n",
    "plt.ylabel('Total Deposit Amount')\n",
    "plt.xlabel('')\n",
    "\n",
    "# Show plot\n",
    "plt.show()\n"
   ]
  },
  {
   "cell_type": "code",
   "execution_count": 328,
   "metadata": {},
   "outputs": [
    {
     "data": {
      "text/html": [
       "<div>\n",
       "<style scoped>\n",
       "    .dataframe tbody tr th:only-of-type {\n",
       "        vertical-align: middle;\n",
       "    }\n",
       "\n",
       "    .dataframe tbody tr th {\n",
       "        vertical-align: top;\n",
       "    }\n",
       "\n",
       "    .dataframe thead th {\n",
       "        text-align: right;\n",
       "    }\n",
       "</style>\n",
       "<table border=\"1\" class=\"dataframe\">\n",
       "  <thead>\n",
       "    <tr style=\"text-align: right;\">\n",
       "      <th>client_age</th>\n",
       "      <th>0-20</th>\n",
       "      <th>21-30</th>\n",
       "      <th>31-40</th>\n",
       "      <th>41-50</th>\n",
       "      <th>51-60</th>\n",
       "      <th>61-70</th>\n",
       "      <th>71-80</th>\n",
       "      <th>81-90</th>\n",
       "      <th>91-100</th>\n",
       "    </tr>\n",
       "    <tr>\n",
       "      <th>month_name</th>\n",
       "      <th></th>\n",
       "      <th></th>\n",
       "      <th></th>\n",
       "      <th></th>\n",
       "      <th></th>\n",
       "      <th></th>\n",
       "      <th></th>\n",
       "      <th></th>\n",
       "      <th></th>\n",
       "    </tr>\n",
       "  </thead>\n",
       "  <tbody>\n",
       "    <tr>\n",
       "      <th>Month 1</th>\n",
       "      <td>NaN</td>\n",
       "      <td>NaN</td>\n",
       "      <td>NaN</td>\n",
       "      <td>NaN</td>\n",
       "      <td>NaN</td>\n",
       "      <td>NaN</td>\n",
       "      <td>NaN</td>\n",
       "      <td>NaN</td>\n",
       "      <td>NaN</td>\n",
       "    </tr>\n",
       "    <tr>\n",
       "      <th>Month 2</th>\n",
       "      <td>0.0</td>\n",
       "      <td>36475.26</td>\n",
       "      <td>175969.91</td>\n",
       "      <td>205030.04</td>\n",
       "      <td>70677.07</td>\n",
       "      <td>68975.76</td>\n",
       "      <td>21457.43</td>\n",
       "      <td>7141.00</td>\n",
       "      <td>16073.94</td>\n",
       "    </tr>\n",
       "    <tr>\n",
       "      <th>Month 3</th>\n",
       "      <td>0.0</td>\n",
       "      <td>552091.97</td>\n",
       "      <td>1820536.90</td>\n",
       "      <td>2540971.29</td>\n",
       "      <td>2396941.88</td>\n",
       "      <td>1506835.65</td>\n",
       "      <td>826569.69</td>\n",
       "      <td>144394.39</td>\n",
       "      <td>-753.94</td>\n",
       "    </tr>\n",
       "    <tr>\n",
       "      <th>Month 4</th>\n",
       "      <td>0.0</td>\n",
       "      <td>27044.61</td>\n",
       "      <td>-149727.45</td>\n",
       "      <td>-292603.04</td>\n",
       "      <td>-337438.61</td>\n",
       "      <td>-252323.69</td>\n",
       "      <td>-113422.51</td>\n",
       "      <td>-39031.68</td>\n",
       "      <td>-259.00</td>\n",
       "    </tr>\n",
       "    <tr>\n",
       "      <th>Month 5</th>\n",
       "      <td>0.0</td>\n",
       "      <td>-60984.83</td>\n",
       "      <td>-127508.48</td>\n",
       "      <td>-81693.69</td>\n",
       "      <td>-62890.53</td>\n",
       "      <td>-96875.20</td>\n",
       "      <td>-18353.12</td>\n",
       "      <td>14330.35</td>\n",
       "      <td>-1107.00</td>\n",
       "    </tr>\n",
       "  </tbody>\n",
       "</table>\n",
       "</div>"
      ],
      "text/plain": [
       "client_age  0-20      21-30       31-40       41-50       51-60       61-70  \\\n",
       "month_name                                                                    \n",
       "Month 1      NaN        NaN         NaN         NaN         NaN         NaN   \n",
       "Month 2      0.0   36475.26   175969.91   205030.04    70677.07    68975.76   \n",
       "Month 3      0.0  552091.97  1820536.90  2540971.29  2396941.88  1506835.65   \n",
       "Month 4      0.0   27044.61  -149727.45  -292603.04  -337438.61  -252323.69   \n",
       "Month 5      0.0  -60984.83  -127508.48   -81693.69   -62890.53   -96875.20   \n",
       "\n",
       "client_age      71-80      81-90    91-100  \n",
       "month_name                                  \n",
       "Month 1           NaN        NaN       NaN  \n",
       "Month 2      21457.43    7141.00  16073.94  \n",
       "Month 3     826569.69  144394.39   -753.94  \n",
       "Month 4    -113422.51  -39031.68   -259.00  \n",
       "Month 5     -18353.12   14330.35  -1107.00  "
      ]
     },
     "execution_count": 328,
     "metadata": {},
     "output_type": "execute_result"
    }
   ],
   "source": [
    "# Create a dataframe that shows the change in total deposit amount by age each month\n",
    "age_df = df.groupby(['month_name', 'client_age']).deposit_amount.sum().unstack().diff()\n",
    "\n",
    "age_df"
   ]
  },
  {
   "cell_type": "code",
   "execution_count": 330,
   "metadata": {},
   "outputs": [
    {
     "data": {
      "text/html": [
       "<div>\n",
       "<style scoped>\n",
       "    .dataframe tbody tr th:only-of-type {\n",
       "        vertical-align: middle;\n",
       "    }\n",
       "\n",
       "    .dataframe tbody tr th {\n",
       "        vertical-align: top;\n",
       "    }\n",
       "\n",
       "    .dataframe thead th {\n",
       "        text-align: right;\n",
       "    }\n",
       "</style>\n",
       "<table border=\"1\" class=\"dataframe\">\n",
       "  <thead>\n",
       "    <tr style=\"text-align: right;\">\n",
       "      <th>client_age</th>\n",
       "      <th>0-20</th>\n",
       "      <th>21-30</th>\n",
       "      <th>31-40</th>\n",
       "      <th>41-50</th>\n",
       "      <th>51-60</th>\n",
       "      <th>61-70</th>\n",
       "      <th>71-80</th>\n",
       "      <th>81-90</th>\n",
       "      <th>91-100</th>\n",
       "    </tr>\n",
       "    <tr>\n",
       "      <th>month_name</th>\n",
       "      <th></th>\n",
       "      <th></th>\n",
       "      <th></th>\n",
       "      <th></th>\n",
       "      <th></th>\n",
       "      <th></th>\n",
       "      <th></th>\n",
       "      <th></th>\n",
       "      <th></th>\n",
       "    </tr>\n",
       "  </thead>\n",
       "  <tbody>\n",
       "    <tr>\n",
       "      <th>Month 1</th>\n",
       "      <td>NaN</td>\n",
       "      <td>NaN</td>\n",
       "      <td>NaN</td>\n",
       "      <td>NaN</td>\n",
       "      <td>NaN</td>\n",
       "      <td>NaN</td>\n",
       "      <td>NaN</td>\n",
       "      <td>NaN</td>\n",
       "      <td>NaN</td>\n",
       "    </tr>\n",
       "    <tr>\n",
       "      <th>Month 2</th>\n",
       "      <td>NaN</td>\n",
       "      <td>4.936282</td>\n",
       "      <td>4.101104</td>\n",
       "      <td>3.051522</td>\n",
       "      <td>0.924891</td>\n",
       "      <td>1.186887</td>\n",
       "      <td>0.658963</td>\n",
       "      <td>0.926657</td>\n",
       "      <td>30.214173</td>\n",
       "    </tr>\n",
       "    <tr>\n",
       "      <th>Month 3</th>\n",
       "      <td>NaN</td>\n",
       "      <td>71.201200</td>\n",
       "      <td>40.757401</td>\n",
       "      <td>36.698167</td>\n",
       "      <td>31.079314</td>\n",
       "      <td>25.624444</td>\n",
       "      <td>25.217979</td>\n",
       "      <td>18.565405</td>\n",
       "      <td>-1.088346</td>\n",
       "    </tr>\n",
       "    <tr>\n",
       "      <th>Month 4</th>\n",
       "      <td>NaN</td>\n",
       "      <td>2.037276</td>\n",
       "      <td>-2.381426</td>\n",
       "      <td>-3.091440</td>\n",
       "      <td>-3.337909</td>\n",
       "      <td>-3.415643</td>\n",
       "      <td>-2.763525</td>\n",
       "      <td>-4.232660</td>\n",
       "      <td>-0.377992</td>\n",
       "    </tr>\n",
       "    <tr>\n",
       "      <th>Month 5</th>\n",
       "      <td>NaN</td>\n",
       "      <td>-4.502275</td>\n",
       "      <td>-2.077506</td>\n",
       "      <td>-0.890653</td>\n",
       "      <td>-0.643589</td>\n",
       "      <td>-1.357751</td>\n",
       "      <td>-0.459880</td>\n",
       "      <td>1.622690</td>\n",
       "      <td>-1.621717</td>\n",
       "    </tr>\n",
       "  </tbody>\n",
       "</table>\n",
       "</div>"
      ],
      "text/plain": [
       "client_age  0-20      21-30      31-40      41-50      51-60      61-70  \\\n",
       "month_name                                                                \n",
       "Month 1      NaN        NaN        NaN        NaN        NaN        NaN   \n",
       "Month 2      NaN   4.936282   4.101104   3.051522   0.924891   1.186887   \n",
       "Month 3      NaN  71.201200  40.757401  36.698167  31.079314  25.624444   \n",
       "Month 4      NaN   2.037276  -2.381426  -3.091440  -3.337909  -3.415643   \n",
       "Month 5      NaN  -4.502275  -2.077506  -0.890653  -0.643589  -1.357751   \n",
       "\n",
       "client_age      71-80      81-90     91-100  \n",
       "month_name                                   \n",
       "Month 1           NaN        NaN        NaN  \n",
       "Month 2      0.658963   0.926657  30.214173  \n",
       "Month 3     25.217979  18.565405  -1.088346  \n",
       "Month 4     -2.763525  -4.232660  -0.377992  \n",
       "Month 5     -0.459880   1.622690  -1.621717  "
      ]
     },
     "execution_count": 330,
     "metadata": {},
     "output_type": "execute_result"
    }
   ],
   "source": [
    "# Create a dataframe that shows the percent change in total deposit amount by age each month\n",
    "age_df_pct = df.groupby(['month_name', 'client_age']).deposit_amount.sum().unstack().pct_change() * 100\n",
    "\n",
    "age_df_pct"
   ]
  },
  {
   "cell_type": "code",
   "execution_count": 313,
   "metadata": {},
   "outputs": [
    {
     "data": {
      "text/html": [
       "<div>\n",
       "<style scoped>\n",
       "    .dataframe tbody tr th:only-of-type {\n",
       "        vertical-align: middle;\n",
       "    }\n",
       "\n",
       "    .dataframe tbody tr th {\n",
       "        vertical-align: top;\n",
       "    }\n",
       "\n",
       "    .dataframe thead th {\n",
       "        text-align: right;\n",
       "    }\n",
       "</style>\n",
       "<table border=\"1\" class=\"dataframe\">\n",
       "  <thead>\n",
       "    <tr style=\"text-align: right;\">\n",
       "      <th>client_age</th>\n",
       "      <th>0-20</th>\n",
       "      <th>21-30</th>\n",
       "      <th>31-40</th>\n",
       "      <th>41-50</th>\n",
       "      <th>51-60</th>\n",
       "      <th>61-70</th>\n",
       "      <th>71-80</th>\n",
       "      <th>81-90</th>\n",
       "      <th>91-100</th>\n",
       "    </tr>\n",
       "    <tr>\n",
       "      <th>month_name</th>\n",
       "      <th></th>\n",
       "      <th></th>\n",
       "      <th></th>\n",
       "      <th></th>\n",
       "      <th></th>\n",
       "      <th></th>\n",
       "      <th></th>\n",
       "      <th></th>\n",
       "      <th></th>\n",
       "    </tr>\n",
       "  </thead>\n",
       "  <tbody>\n",
       "    <tr>\n",
       "      <th>Month 1</th>\n",
       "      <td>0</td>\n",
       "      <td>1145</td>\n",
       "      <td>5258</td>\n",
       "      <td>7269</td>\n",
       "      <td>7923</td>\n",
       "      <td>6125</td>\n",
       "      <td>3507</td>\n",
       "      <td>847</td>\n",
       "      <td>63</td>\n",
       "    </tr>\n",
       "    <tr>\n",
       "      <th>Month 2</th>\n",
       "      <td>0</td>\n",
       "      <td>1214</td>\n",
       "      <td>5427</td>\n",
       "      <td>7394</td>\n",
       "      <td>8058</td>\n",
       "      <td>6219</td>\n",
       "      <td>3525</td>\n",
       "      <td>850</td>\n",
       "      <td>67</td>\n",
       "    </tr>\n",
       "    <tr>\n",
       "      <th>Month 3</th>\n",
       "      <td>0</td>\n",
       "      <td>2061</td>\n",
       "      <td>7576</td>\n",
       "      <td>9987</td>\n",
       "      <td>10629</td>\n",
       "      <td>7973</td>\n",
       "      <td>4481</td>\n",
       "      <td>1014</td>\n",
       "      <td>82</td>\n",
       "    </tr>\n",
       "    <tr>\n",
       "      <th>Month 4</th>\n",
       "      <td>0</td>\n",
       "      <td>1934</td>\n",
       "      <td>7060</td>\n",
       "      <td>9322</td>\n",
       "      <td>9899</td>\n",
       "      <td>7434</td>\n",
       "      <td>4170</td>\n",
       "      <td>945</td>\n",
       "      <td>73</td>\n",
       "    </tr>\n",
       "    <tr>\n",
       "      <th>Month 5</th>\n",
       "      <td>0</td>\n",
       "      <td>1897</td>\n",
       "      <td>7039</td>\n",
       "      <td>9297</td>\n",
       "      <td>9881</td>\n",
       "      <td>7406</td>\n",
       "      <td>4177</td>\n",
       "      <td>945</td>\n",
       "      <td>73</td>\n",
       "    </tr>\n",
       "  </tbody>\n",
       "</table>\n",
       "</div>"
      ],
      "text/plain": [
       "client_age  0-20  21-30  31-40  41-50  51-60  61-70  71-80  81-90  91-100\n",
       "month_name                                                               \n",
       "Month 1        0   1145   5258   7269   7923   6125   3507    847      63\n",
       "Month 2        0   1214   5427   7394   8058   6219   3525    850      67\n",
       "Month 3        0   2061   7576   9987  10629   7973   4481   1014      82\n",
       "Month 4        0   1934   7060   9322   9899   7434   4170    945      73\n",
       "Month 5        0   1897   7039   9297   9881   7406   4177    945      73"
      ]
     },
     "execution_count": 313,
     "metadata": {},
     "output_type": "execute_result"
    }
   ],
   "source": [
    "# Create a dataframe that shows the number of unique clients by age each month\n",
    "client_age_df = df.groupby(['month_name', 'client_age']).client_id.nunique().unstack()\n",
    "\n",
    "# View client_age_df\n",
    "client_age_df"
   ]
  },
  {
   "cell_type": "code",
   "execution_count": 314,
   "metadata": {},
   "outputs": [
    {
     "data": {
      "text/html": [
       "<div>\n",
       "<style scoped>\n",
       "    .dataframe tbody tr th:only-of-type {\n",
       "        vertical-align: middle;\n",
       "    }\n",
       "\n",
       "    .dataframe tbody tr th {\n",
       "        vertical-align: top;\n",
       "    }\n",
       "\n",
       "    .dataframe thead th {\n",
       "        text-align: right;\n",
       "    }\n",
       "</style>\n",
       "<table border=\"1\" class=\"dataframe\">\n",
       "  <thead>\n",
       "    <tr style=\"text-align: right;\">\n",
       "      <th>client_age</th>\n",
       "      <th>0-20</th>\n",
       "      <th>21-30</th>\n",
       "      <th>31-40</th>\n",
       "      <th>41-50</th>\n",
       "      <th>51-60</th>\n",
       "      <th>61-70</th>\n",
       "      <th>71-80</th>\n",
       "      <th>81-90</th>\n",
       "      <th>91-100</th>\n",
       "    </tr>\n",
       "    <tr>\n",
       "      <th>month_name</th>\n",
       "      <th></th>\n",
       "      <th></th>\n",
       "      <th></th>\n",
       "      <th></th>\n",
       "      <th></th>\n",
       "      <th></th>\n",
       "      <th></th>\n",
       "      <th></th>\n",
       "      <th></th>\n",
       "    </tr>\n",
       "  </thead>\n",
       "  <tbody>\n",
       "    <tr>\n",
       "      <th>Month 1</th>\n",
       "      <td>NaN</td>\n",
       "      <td>NaN</td>\n",
       "      <td>NaN</td>\n",
       "      <td>NaN</td>\n",
       "      <td>NaN</td>\n",
       "      <td>NaN</td>\n",
       "      <td>NaN</td>\n",
       "      <td>NaN</td>\n",
       "      <td>NaN</td>\n",
       "    </tr>\n",
       "    <tr>\n",
       "      <th>Month 2</th>\n",
       "      <td>NaN</td>\n",
       "      <td>6.026201</td>\n",
       "      <td>3.214150</td>\n",
       "      <td>1.719631</td>\n",
       "      <td>1.703900</td>\n",
       "      <td>1.534694</td>\n",
       "      <td>0.513259</td>\n",
       "      <td>0.354191</td>\n",
       "      <td>6.349206</td>\n",
       "    </tr>\n",
       "    <tr>\n",
       "      <th>Month 3</th>\n",
       "      <td>NaN</td>\n",
       "      <td>69.769357</td>\n",
       "      <td>39.598305</td>\n",
       "      <td>35.068975</td>\n",
       "      <td>31.906180</td>\n",
       "      <td>28.203891</td>\n",
       "      <td>27.120567</td>\n",
       "      <td>19.294118</td>\n",
       "      <td>22.388060</td>\n",
       "    </tr>\n",
       "    <tr>\n",
       "      <th>Month 4</th>\n",
       "      <td>NaN</td>\n",
       "      <td>-6.162057</td>\n",
       "      <td>-6.810982</td>\n",
       "      <td>-6.658656</td>\n",
       "      <td>-6.868003</td>\n",
       "      <td>-6.760316</td>\n",
       "      <td>-6.940415</td>\n",
       "      <td>-6.804734</td>\n",
       "      <td>-10.975610</td>\n",
       "    </tr>\n",
       "    <tr>\n",
       "      <th>Month 5</th>\n",
       "      <td>NaN</td>\n",
       "      <td>-1.913133</td>\n",
       "      <td>-0.297450</td>\n",
       "      <td>-0.268183</td>\n",
       "      <td>-0.181837</td>\n",
       "      <td>-0.376648</td>\n",
       "      <td>0.167866</td>\n",
       "      <td>0.000000</td>\n",
       "      <td>0.000000</td>\n",
       "    </tr>\n",
       "  </tbody>\n",
       "</table>\n",
       "</div>"
      ],
      "text/plain": [
       "client_age  0-20      21-30      31-40      41-50      51-60      61-70  \\\n",
       "month_name                                                                \n",
       "Month 1      NaN        NaN        NaN        NaN        NaN        NaN   \n",
       "Month 2      NaN   6.026201   3.214150   1.719631   1.703900   1.534694   \n",
       "Month 3      NaN  69.769357  39.598305  35.068975  31.906180  28.203891   \n",
       "Month 4      NaN  -6.162057  -6.810982  -6.658656  -6.868003  -6.760316   \n",
       "Month 5      NaN  -1.913133  -0.297450  -0.268183  -0.181837  -0.376648   \n",
       "\n",
       "client_age      71-80      81-90     91-100  \n",
       "month_name                                   \n",
       "Month 1           NaN        NaN        NaN  \n",
       "Month 2      0.513259   0.354191   6.349206  \n",
       "Month 3     27.120567  19.294118  22.388060  \n",
       "Month 4     -6.940415  -6.804734 -10.975610  \n",
       "Month 5      0.167866   0.000000   0.000000  "
      ]
     },
     "execution_count": 314,
     "metadata": {},
     "output_type": "execute_result"
    }
   ],
   "source": [
    "# Calculate percent change in unique clients by age each month as a dataframe\n",
    "percent_change = df.groupby(['month_name', 'client_age']).client_id.nunique().unstack().pct_change() *100\n",
    "\n",
    "percent_change"
   ]
  },
  {
   "cell_type": "code",
   "execution_count": 315,
   "metadata": {},
   "outputs": [
    {
     "data": {
      "image/png": "[encoded data removed]",
      "text/plain": [
       "<Figure size 432x288 with 1 Axes>"
      ]
     },
     "metadata": {
      "needs_background": "light"
     },
     "output_type": "display_data"
    }
   ],
   "source": [
    "# Plot the client residence status each month\n",
    "df.groupby(['month_name', 'client_residence_status']).client_id.count().unstack().plot(\n",
    "    kind='line', \n",
    "    title='Change in Client Residence Status',\n",
    "    ylabel='Number of Clients',\n",
    "    xlabel='',\n",
    "    )\n",
    "\n",
    "plt.show()"
   ]
  },
  {
   "cell_type": "code",
   "execution_count": 316,
   "metadata": {},
   "outputs": [
    {
     "data": {
      "text/html": [
       "<div>\n",
       "<style scoped>\n",
       "    .dataframe tbody tr th:only-of-type {\n",
       "        vertical-align: middle;\n",
       "    }\n",
       "\n",
       "    .dataframe tbody tr th {\n",
       "        vertical-align: top;\n",
       "    }\n",
       "\n",
       "    .dataframe thead th {\n",
       "        text-align: right;\n",
       "    }\n",
       "</style>\n",
       "<table border=\"1\" class=\"dataframe\">\n",
       "  <thead>\n",
       "    <tr style=\"text-align: right;\">\n",
       "      <th>client_residence_status</th>\n",
       "      <th>Own</th>\n",
       "      <th>Rent</th>\n",
       "    </tr>\n",
       "    <tr>\n",
       "      <th>month_name</th>\n",
       "      <th></th>\n",
       "      <th></th>\n",
       "    </tr>\n",
       "  </thead>\n",
       "  <tbody>\n",
       "    <tr>\n",
       "      <th>Month 1</th>\n",
       "      <td>NaN</td>\n",
       "      <td>NaN</td>\n",
       "    </tr>\n",
       "    <tr>\n",
       "      <th>Month 2</th>\n",
       "      <td>2.581073</td>\n",
       "      <td>4.253681</td>\n",
       "    </tr>\n",
       "    <tr>\n",
       "      <th>Month 3</th>\n",
       "      <td>37.651029</td>\n",
       "      <td>29.403841</td>\n",
       "    </tr>\n",
       "    <tr>\n",
       "      <th>Month 4</th>\n",
       "      <td>-1.779635</td>\n",
       "      <td>1.309560</td>\n",
       "    </tr>\n",
       "    <tr>\n",
       "      <th>Month 5</th>\n",
       "      <td>-1.139376</td>\n",
       "      <td>-0.828610</td>\n",
       "    </tr>\n",
       "  </tbody>\n",
       "</table>\n",
       "</div>"
      ],
      "text/plain": [
       "client_residence_status        Own       Rent\n",
       "month_name                                   \n",
       "Month 1                        NaN        NaN\n",
       "Month 2                   2.581073   4.253681\n",
       "Month 3                  37.651029  29.403841\n",
       "Month 4                  -1.779635   1.309560\n",
       "Month 5                  -1.139376  -0.828610"
      ]
     },
     "execution_count": 316,
     "metadata": {},
     "output_type": "execute_result"
    }
   ],
   "source": [
    "# Calculate the percent change in client residence status each month\n",
    "client_residence_status_df = df.groupby(['month_name', 'client_residence_status']).client_id.count().unstack().pct_change() * 100\n",
    "\n",
    "# View client_residence_status_df\n",
    "client_residence_status_df"
   ]
  },
  {
   "cell_type": "code",
   "execution_count": 317,
   "metadata": {},
   "outputs": [
    {
     "data": {
      "image/png": "[encoded data removed]",
      "text/plain": [
       "<Figure size 432x288 with 1 Axes>"
      ]
     },
     "metadata": {
      "needs_background": "light"
     },
     "output_type": "display_data"
    }
   ],
   "source": [
    "# Plot client residence status based on age\n",
    "df.groupby(['client_age', 'client_residence_status']).client_id.count().unstack().plot(\n",
    "    kind='bar',\n",
    "    title='Client Residence Status by Age',\n",
    "    ylabel='Number of Clients',\n",
    "    xlabel='',\n",
    "    )\n",
    "\n",
    "plt.show()"
   ]
  },
  {
   "cell_type": "code",
   "execution_count": 318,
   "metadata": {},
   "outputs": [
    {
     "data": {
      "image/png": "[encoded data removed]",
      "text/plain": [
       "<Figure size 432x288 with 1 Axes>"
      ]
     },
     "metadata": {
      "needs_background": "light"
     },
     "output_type": "display_data"
    }
   ],
   "source": [
    "# Create graph of deposit types by age\n",
    "df.groupby(['client_age', 'deposit_type']).deposit_type.count().unstack().plot(\n",
    "    kind='bar', \n",
    "    title='Number of Deposits by Deposit Type by Age')\n",
    "\n",
    "# Move legend to the right\n",
    "plt.legend(bbox_to_anchor=(1.05, 1), loc=2, borderaxespad=0.)\n",
    "\n",
    "# SHow plot\n",
    "plt.show()\n"
   ]
  },
  {
   "cell_type": "code",
   "execution_count": 321,
   "metadata": {},
   "outputs": [
    {
     "name": "stdout",
     "output_type": "stream",
     "text": [
      "The increase in clients between the ages of 41 and 60: 5164\n",
      "The total increase in clients: 11049\n",
      "The percentage of clients between the ages of 41 and 60: 46.74%\n"
     ]
    }
   ],
   "source": [
    "# Create a variable that stores the total number of clients between the ages of 41 and 60 before teh marketing campaign\n",
    "clients_before = df[(df['client_age'] >= '41-50') & (df['client_age'] <= '51-60') & (df['month_name'] == 'Month 2')].client_id.nunique()\n",
    "\n",
    "# Create a variable that stores the total number of clients between the ages of 41 and 60 after the marketing campaign\n",
    "clients_after = df[(df['client_age'] >= '41-50') & (df['client_age'] <= '51-60') & (df['month_name'] == 'Month 3')].client_id.nunique()\n",
    "\n",
    "# Calculate the increase in clients between the ages of 41 and 60\n",
    "clients_increase = clients_after - clients_before\n",
    "\n",
    "# Calculate the total increase in clients after the marketing campaign\n",
    "clients_total_increase = df[(df['month_name'] == 'Month 3')].client_id.nunique() - df[(df['month_name'] == 'Month 2')].client_id.nunique()\n",
    "\n",
    "# Print the increase in clients between the ages of 41 and 60\n",
    "print(f'The increase in clients between the ages of 41 and 60: {clients_increase}')\n",
    "\n",
    "# Print the total increase in clients\n",
    "print(f'The total increase in clients: {clients_total_increase}')\n",
    "\n",
    "# Print the percentage of clients between the ages of 41 and 60\n",
    "print(f'The percentage of clients between the ages of 41 and 60: {round(clients_increase / clients_total_increase * 100, 2)}%')"
   ]
  },
  {
   "cell_type": "code",
   "execution_count": 325,
   "metadata": {},
   "outputs": [
    {
     "name": "stdout",
     "output_type": "stream",
     "text": [
      "The increase in clients between the ages of 21 and 30: 847\n",
      "The total increase in clients: 11049\n",
      "The percentage of clients between the ages of 21 and 30: 7.67%\n"
     ]
    }
   ],
   "source": [
    "# Create a variable that stores the total number of clients between the ages of 21 and 30 before the marketing campaign\n",
    "clients_before = df[(df['client_age'] >= '21-30') & (df['client_age'] < '31-40') & (df['month_name'] == 'Month 2')].client_id.nunique()\n",
    "\n",
    "# Create a variable that stores the total number of clients between the ages of 21 and 30 after the marketing campaign\n",
    "clients_after = df[(df['client_age'] >= '21-30') & (df['client_age'] < '31-40') & (df['month_name'] == 'Month 3')].client_id.nunique()\n",
    "\n",
    "# Calculate the increase in clients between the ages of 21 and 30\n",
    "clients_increase = clients_after - clients_before\n",
    "\n",
    "# Calculate the total increase in clients after the marketing campaign\n",
    "clients_total_increase = df[(df['month_name'] == 'Month 3')].client_id.nunique() - df[(df['month_name'] == 'Month 2')].client_id.nunique()\n",
    "\n",
    "# Print the increase in clients between the ages of 21 and 30\n",
    "print(f'The increase in clients between the ages of 21 and 30: {clients_increase}')\n",
    "\n",
    "# Print the total increase in clients\n",
    "print(f'The total increase in clients: {clients_total_increase}')\n",
    "\n",
    "# Print the percentage of clients between the ages of 21 and 30\n",
    "print(f'The percentage of clients between the ages of 21 and 30: {round(clients_increase / clients_total_increase * 100, 2)}%')\n"
   ]
  },
  {
   "cell_type": "code",
   "execution_count": 331,
   "metadata": {},
   "outputs": [
    {
     "data": {
      "text/html": [
       "<div>\n",
       "<style scoped>\n",
       "    .dataframe tbody tr th:only-of-type {\n",
       "        vertical-align: middle;\n",
       "    }\n",
       "\n",
       "    .dataframe tbody tr th {\n",
       "        vertical-align: top;\n",
       "    }\n",
       "\n",
       "    .dataframe thead th {\n",
       "        text-align: right;\n",
       "    }\n",
       "</style>\n",
       "<table border=\"1\" class=\"dataframe\">\n",
       "  <thead>\n",
       "    <tr style=\"text-align: right;\">\n",
       "      <th>deposit_type</th>\n",
       "      <th>Actual Deposit</th>\n",
       "      <th>Scheduled Deposit</th>\n",
       "    </tr>\n",
       "    <tr>\n",
       "      <th>client_age</th>\n",
       "      <th></th>\n",
       "      <th></th>\n",
       "    </tr>\n",
       "  </thead>\n",
       "  <tbody>\n",
       "    <tr>\n",
       "      <th>0-20</th>\n",
       "      <td>NaN</td>\n",
       "      <td>NaN</td>\n",
       "    </tr>\n",
       "    <tr>\n",
       "      <th>21-30</th>\n",
       "      <td>250.046130</td>\n",
       "      <td>242.563669</td>\n",
       "    </tr>\n",
       "    <tr>\n",
       "      <th>31-40</th>\n",
       "      <td>315.965341</td>\n",
       "      <td>310.204116</td>\n",
       "    </tr>\n",
       "    <tr>\n",
       "      <th>41-50</th>\n",
       "      <td>365.061566</td>\n",
       "      <td>352.915622</td>\n",
       "    </tr>\n",
       "    <tr>\n",
       "      <th>51-60</th>\n",
       "      <td>377.105370</td>\n",
       "      <td>368.278941</td>\n",
       "    </tr>\n",
       "    <tr>\n",
       "      <th>61-70</th>\n",
       "      <td>400.540748</td>\n",
       "      <td>386.319253</td>\n",
       "    </tr>\n",
       "    <tr>\n",
       "      <th>71-80</th>\n",
       "      <td>458.414268</td>\n",
       "      <td>450.887682</td>\n",
       "    </tr>\n",
       "    <tr>\n",
       "      <th>81-90</th>\n",
       "      <td>466.379423</td>\n",
       "      <td>469.820519</td>\n",
       "    </tr>\n",
       "    <tr>\n",
       "      <th>91-100</th>\n",
       "      <td>504.666478</td>\n",
       "      <td>474.071429</td>\n",
       "    </tr>\n",
       "  </tbody>\n",
       "</table>\n",
       "</div>"
      ],
      "text/plain": [
       "deposit_type  Actual Deposit  Scheduled Deposit\n",
       "client_age                                     \n",
       "0-20                     NaN                NaN\n",
       "21-30             250.046130         242.563669\n",
       "31-40             315.965341         310.204116\n",
       "41-50             365.061566         352.915622\n",
       "51-60             377.105370         368.278941\n",
       "61-70             400.540748         386.319253\n",
       "71-80             458.414268         450.887682\n",
       "81-90             466.379423         469.820519\n",
       "91-100            504.666478         474.071429"
      ]
     },
     "execution_count": 331,
     "metadata": {},
     "output_type": "execute_result"
    }
   ],
   "source": [
    "# Calculate the average deposit amount by age and by deposit type\n",
    "df.groupby(['client_age', 'deposit_type']).deposit_amount.mean().unstack()"
   ]
  },
  {
   "cell_type": "code",
   "execution_count": 332,
   "metadata": {},
   "outputs": [
    {
     "data": {
      "text/html": [
       "<div>\n",
       "<style scoped>\n",
       "    .dataframe tbody tr th:only-of-type {\n",
       "        vertical-align: middle;\n",
       "    }\n",
       "\n",
       "    .dataframe tbody tr th {\n",
       "        vertical-align: top;\n",
       "    }\n",
       "\n",
       "    .dataframe thead th {\n",
       "        text-align: right;\n",
       "    }\n",
       "</style>\n",
       "<table border=\"1\" class=\"dataframe\">\n",
       "  <thead>\n",
       "    <tr style=\"text-align: right;\">\n",
       "      <th>deposit_cadence</th>\n",
       "      <th>Biweekly</th>\n",
       "      <th>Extra</th>\n",
       "      <th>Monthly</th>\n",
       "    </tr>\n",
       "    <tr>\n",
       "      <th>client_age</th>\n",
       "      <th></th>\n",
       "      <th></th>\n",
       "      <th></th>\n",
       "    </tr>\n",
       "  </thead>\n",
       "  <tbody>\n",
       "    <tr>\n",
       "      <th>0-20</th>\n",
       "      <td>NaN</td>\n",
       "      <td>NaN</td>\n",
       "      <td>NaN</td>\n",
       "    </tr>\n",
       "    <tr>\n",
       "      <th>21-30</th>\n",
       "      <td>163.460743</td>\n",
       "      <td>382.058385</td>\n",
       "      <td>338.690448</td>\n",
       "    </tr>\n",
       "    <tr>\n",
       "      <th>31-40</th>\n",
       "      <td>213.145112</td>\n",
       "      <td>526.570995</td>\n",
       "      <td>420.034310</td>\n",
       "    </tr>\n",
       "    <tr>\n",
       "      <th>41-50</th>\n",
       "      <td>241.946994</td>\n",
       "      <td>780.741702</td>\n",
       "      <td>471.509504</td>\n",
       "    </tr>\n",
       "    <tr>\n",
       "      <th>51-60</th>\n",
       "      <td>248.293374</td>\n",
       "      <td>724.917044</td>\n",
       "      <td>480.037514</td>\n",
       "    </tr>\n",
       "    <tr>\n",
       "      <th>61-70</th>\n",
       "      <td>248.961719</td>\n",
       "      <td>885.670087</td>\n",
       "      <td>461.223083</td>\n",
       "    </tr>\n",
       "    <tr>\n",
       "      <th>71-80</th>\n",
       "      <td>246.312206</td>\n",
       "      <td>775.123328</td>\n",
       "      <td>471.051333</td>\n",
       "    </tr>\n",
       "    <tr>\n",
       "      <th>81-90</th>\n",
       "      <td>303.862745</td>\n",
       "      <td>544.921188</td>\n",
       "      <td>476.126951</td>\n",
       "    </tr>\n",
       "    <tr>\n",
       "      <th>91-100</th>\n",
       "      <td>NaN</td>\n",
       "      <td>1912.882222</td>\n",
       "      <td>469.185129</td>\n",
       "    </tr>\n",
       "  </tbody>\n",
       "</table>\n",
       "</div>"
      ],
      "text/plain": [
       "deposit_cadence    Biweekly        Extra     Monthly\n",
       "client_age                                          \n",
       "0-20                    NaN          NaN         NaN\n",
       "21-30            163.460743   382.058385  338.690448\n",
       "31-40            213.145112   526.570995  420.034310\n",
       "41-50            241.946994   780.741702  471.509504\n",
       "51-60            248.293374   724.917044  480.037514\n",
       "61-70            248.961719   885.670087  461.223083\n",
       "71-80            246.312206   775.123328  471.051333\n",
       "81-90            303.862745   544.921188  476.126951\n",
       "91-100                  NaN  1912.882222  469.185129"
      ]
     },
     "execution_count": 332,
     "metadata": {},
     "output_type": "execute_result"
    }
   ],
   "source": [
    "# Calculate the average deposit amount by age and by deposit cadence\n",
    "df.groupby(['client_age', 'deposit_cadence']).deposit_amount.mean().unstack()"
   ]
  },
  {
   "cell_type": "code",
   "execution_count": 333,
   "metadata": {},
   "outputs": [
    {
     "data": {
      "text/html": [
       "<div>\n",
       "<style scoped>\n",
       "    .dataframe tbody tr th:only-of-type {\n",
       "        vertical-align: middle;\n",
       "    }\n",
       "\n",
       "    .dataframe tbody tr th {\n",
       "        vertical-align: top;\n",
       "    }\n",
       "\n",
       "    .dataframe thead th {\n",
       "        text-align: right;\n",
       "    }\n",
       "</style>\n",
       "<table border=\"1\" class=\"dataframe\">\n",
       "  <thead>\n",
       "    <tr style=\"text-align: right;\">\n",
       "      <th>deposit_cadence</th>\n",
       "      <th>Biweekly</th>\n",
       "      <th>Extra</th>\n",
       "      <th>Monthly</th>\n",
       "    </tr>\n",
       "    <tr>\n",
       "      <th>client_age</th>\n",
       "      <th></th>\n",
       "      <th></th>\n",
       "      <th></th>\n",
       "    </tr>\n",
       "  </thead>\n",
       "  <tbody>\n",
       "    <tr>\n",
       "      <th>0-20</th>\n",
       "      <td>0</td>\n",
       "      <td>0</td>\n",
       "      <td>0</td>\n",
       "    </tr>\n",
       "    <tr>\n",
       "      <th>21-30</th>\n",
       "      <td>11921</td>\n",
       "      <td>545</td>\n",
       "      <td>9841</td>\n",
       "    </tr>\n",
       "    <tr>\n",
       "      <th>31-40</th>\n",
       "      <td>45867</td>\n",
       "      <td>1769</td>\n",
       "      <td>39246</td>\n",
       "    </tr>\n",
       "    <tr>\n",
       "      <th>41-50</th>\n",
       "      <td>59151</td>\n",
       "      <td>1880</td>\n",
       "      <td>54276</td>\n",
       "    </tr>\n",
       "    <tr>\n",
       "      <th>51-60</th>\n",
       "      <td>58120</td>\n",
       "      <td>2057</td>\n",
       "      <td>60458</td>\n",
       "    </tr>\n",
       "    <tr>\n",
       "      <th>61-70</th>\n",
       "      <td>29845</td>\n",
       "      <td>1379</td>\n",
       "      <td>53338</td>\n",
       "    </tr>\n",
       "    <tr>\n",
       "      <th>71-80</th>\n",
       "      <td>3826</td>\n",
       "      <td>607</td>\n",
       "      <td>36490</td>\n",
       "    </tr>\n",
       "    <tr>\n",
       "      <th>81-90</th>\n",
       "      <td>459</td>\n",
       "      <td>101</td>\n",
       "      <td>8520</td>\n",
       "    </tr>\n",
       "    <tr>\n",
       "      <th>91-100</th>\n",
       "      <td>0</td>\n",
       "      <td>9</td>\n",
       "      <td>659</td>\n",
       "    </tr>\n",
       "  </tbody>\n",
       "</table>\n",
       "</div>"
      ],
      "text/plain": [
       "deposit_cadence  Biweekly  Extra  Monthly\n",
       "client_age                               \n",
       "0-20                    0      0        0\n",
       "21-30               11921    545     9841\n",
       "31-40               45867   1769    39246\n",
       "41-50               59151   1880    54276\n",
       "51-60               58120   2057    60458\n",
       "61-70               29845   1379    53338\n",
       "71-80                3826    607    36490\n",
       "81-90                 459    101     8520\n",
       "91-100                  0      9      659"
      ]
     },
     "execution_count": 333,
     "metadata": {},
     "output_type": "execute_result"
    }
   ],
   "source": [
    "# Calculate  the number of deposits by age and by deposit cadence\n",
    "df.groupby(['client_age', 'deposit_cadence']).deposit_amount.count().unstack()"
   ]
  },
  {
   "cell_type": "code",
   "execution_count": null,
   "metadata": {},
   "outputs": [],
   "source": []
  }
 ],
 "metadata": {
  "kernelspec": {
   "display_name": "Python 3",
   "language": "python",
   "name": "python3"
  },
  "language_info": {
   "codemirror_mode": {
    "name": "ipython",
    "version": 3
   },
   "file_extension": ".py",
   "mimetype": "text/x-python",
   "name": "python",
   "nbconvert_exporter": "python",
   "pygments_lexer": "ipython3",
   "version": "3.7.13"
  },
  "orig_nbformat": 4,
  "vscode": {
   "interpreter": {
    "hash": "d1b206eceded8c2e852a0b648e3267224ebdcd19cc2ccbf70b9fb1443c05ce2e"
   }
  }
 },
 "nbformat": 4,
 "nbformat_minor": 2
}
