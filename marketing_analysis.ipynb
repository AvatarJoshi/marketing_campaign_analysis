{
 "cells": [
  {
   "cell_type": "code",
   "execution_count": 1,
   "metadata": {},
   "outputs": [],
   "source": [
    "# import dependencies\n",
    "import pandas as pd"
   ]
  },
  {
   "cell_type": "code",
   "execution_count": 6,
   "metadata": {},
   "outputs": [],
   "source": [
    "# read in the data\n",
    "calendar_df = pd.read_csv('./resources/datasets/calendar_data.csv')\n",
    "client_df = pd.read_csv('./resources/datasets/client_data.csv')\n",
    "deposit_df = pd.read_csv('./resources/datasets/deposit_data.csv')"
   ]
  },
  {
   "cell_type": "code",
   "execution_count": 7,
   "metadata": {},
   "outputs": [
    {
     "data": {
      "text/html": [
       "<div>\n",
       "<style scoped>\n",
       "    .dataframe tbody tr th:only-of-type {\n",
       "        vertical-align: middle;\n",
       "    }\n",
       "\n",
       "    .dataframe tbody tr th {\n",
       "        vertical-align: top;\n",
       "    }\n",
       "\n",
       "    .dataframe thead th {\n",
       "        text-align: right;\n",
       "    }\n",
       "</style>\n",
       "<table border=\"1\" class=\"dataframe\">\n",
       "  <thead>\n",
       "    <tr style=\"text-align: right;\">\n",
       "      <th></th>\n",
       "      <th>client_id</th>\n",
       "      <th>client_geographical_region</th>\n",
       "      <th>client_residence_status</th>\n",
       "      <th>client_age</th>\n",
       "    </tr>\n",
       "  </thead>\n",
       "  <tbody>\n",
       "    <tr>\n",
       "      <th>0</th>\n",
       "      <td>538839486596724</td>\n",
       "      <td>Northeast</td>\n",
       "      <td>Rent</td>\n",
       "      <td>91</td>\n",
       "    </tr>\n",
       "    <tr>\n",
       "      <th>1</th>\n",
       "      <td>321708286091707</td>\n",
       "      <td>West</td>\n",
       "      <td>Own</td>\n",
       "      <td>83</td>\n",
       "    </tr>\n",
       "    <tr>\n",
       "      <th>2</th>\n",
       "      <td>848531901757235</td>\n",
       "      <td>Midwest</td>\n",
       "      <td>Own</td>\n",
       "      <td>84</td>\n",
       "    </tr>\n",
       "    <tr>\n",
       "      <th>3</th>\n",
       "      <td>854405182328779</td>\n",
       "      <td>Northeast</td>\n",
       "      <td>Own</td>\n",
       "      <td>83</td>\n",
       "    </tr>\n",
       "    <tr>\n",
       "      <th>4</th>\n",
       "      <td>769102176031316</td>\n",
       "      <td>West</td>\n",
       "      <td>Own</td>\n",
       "      <td>85</td>\n",
       "    </tr>\n",
       "  </tbody>\n",
       "</table>\n",
       "</div>"
      ],
      "text/plain": [
       "         client_id client_geographical_region client_residence_status  \\\n",
       "0  538839486596724                  Northeast                    Rent   \n",
       "1  321708286091707                       West                     Own   \n",
       "2  848531901757235                    Midwest                     Own   \n",
       "3  854405182328779                  Northeast                     Own   \n",
       "4  769102176031316                       West                     Own   \n",
       "\n",
       "   client_age  \n",
       "0          91  \n",
       "1          83  \n",
       "2          84  \n",
       "3          83  \n",
       "4          85  "
      ]
     },
     "execution_count": 7,
     "metadata": {},
     "output_type": "execute_result"
    }
   ],
   "source": [
    "# view client data\n",
    "client_df.head()"
   ]
  },
  {
   "cell_type": "code",
   "execution_count": 8,
   "metadata": {},
   "outputs": [
    {
     "data": {
      "text/html": [
       "<div>\n",
       "<style scoped>\n",
       "    .dataframe tbody tr th:only-of-type {\n",
       "        vertical-align: middle;\n",
       "    }\n",
       "\n",
       "    .dataframe tbody tr th {\n",
       "        vertical-align: top;\n",
       "    }\n",
       "\n",
       "    .dataframe thead th {\n",
       "        text-align: right;\n",
       "    }\n",
       "</style>\n",
       "<table border=\"1\" class=\"dataframe\">\n",
       "  <thead>\n",
       "    <tr style=\"text-align: right;\">\n",
       "      <th></th>\n",
       "      <th>client_id</th>\n",
       "      <th>deposit_type</th>\n",
       "      <th>deposit_amount</th>\n",
       "      <th>deposit_cadence</th>\n",
       "      <th>deposit_date</th>\n",
       "    </tr>\n",
       "  </thead>\n",
       "  <tbody>\n",
       "    <tr>\n",
       "      <th>0</th>\n",
       "      <td>446495122764671</td>\n",
       "      <td>Actual Deposit</td>\n",
       "      <td>303.0</td>\n",
       "      <td>Monthly</td>\n",
       "      <td>2019-10-23</td>\n",
       "    </tr>\n",
       "    <tr>\n",
       "      <th>1</th>\n",
       "      <td>446495122764671</td>\n",
       "      <td>Actual Deposit</td>\n",
       "      <td>303.0</td>\n",
       "      <td>Monthly</td>\n",
       "      <td>2019-09-23</td>\n",
       "    </tr>\n",
       "    <tr>\n",
       "      <th>2</th>\n",
       "      <td>446495122764671</td>\n",
       "      <td>Scheduled Deposit</td>\n",
       "      <td>303.0</td>\n",
       "      <td>Monthly</td>\n",
       "      <td>2019-09-23</td>\n",
       "    </tr>\n",
       "    <tr>\n",
       "      <th>3</th>\n",
       "      <td>446495122764671</td>\n",
       "      <td>Scheduled Deposit</td>\n",
       "      <td>303.0</td>\n",
       "      <td>Monthly</td>\n",
       "      <td>2019-10-23</td>\n",
       "    </tr>\n",
       "    <tr>\n",
       "      <th>4</th>\n",
       "      <td>446495122764671</td>\n",
       "      <td>Scheduled Deposit</td>\n",
       "      <td>303.0</td>\n",
       "      <td>Monthly</td>\n",
       "      <td>2019-06-23</td>\n",
       "    </tr>\n",
       "  </tbody>\n",
       "</table>\n",
       "</div>"
      ],
      "text/plain": [
       "         client_id       deposit_type  deposit_amount deposit_cadence  \\\n",
       "0  446495122764671     Actual Deposit           303.0         Monthly   \n",
       "1  446495122764671     Actual Deposit           303.0         Monthly   \n",
       "2  446495122764671  Scheduled Deposit           303.0         Monthly   \n",
       "3  446495122764671  Scheduled Deposit           303.0         Monthly   \n",
       "4  446495122764671  Scheduled Deposit           303.0         Monthly   \n",
       "\n",
       "  deposit_date  \n",
       "0   2019-10-23  \n",
       "1   2019-09-23  \n",
       "2   2019-09-23  \n",
       "3   2019-10-23  \n",
       "4   2019-06-23  "
      ]
     },
     "execution_count": 8,
     "metadata": {},
     "output_type": "execute_result"
    }
   ],
   "source": [
    "# view deposit data\n",
    "deposit_df.head()"
   ]
  },
  {
   "cell_type": "code",
   "execution_count": 9,
   "metadata": {},
   "outputs": [
    {
     "data": {
      "text/html": [
       "<div>\n",
       "<style scoped>\n",
       "    .dataframe tbody tr th:only-of-type {\n",
       "        vertical-align: middle;\n",
       "    }\n",
       "\n",
       "    .dataframe tbody tr th {\n",
       "        vertical-align: top;\n",
       "    }\n",
       "\n",
       "    .dataframe thead th {\n",
       "        text-align: right;\n",
       "    }\n",
       "</style>\n",
       "<table border=\"1\" class=\"dataframe\">\n",
       "  <thead>\n",
       "    <tr style=\"text-align: right;\">\n",
       "      <th></th>\n",
       "      <th>gregorian_date</th>\n",
       "      <th>month_name</th>\n",
       "    </tr>\n",
       "  </thead>\n",
       "  <tbody>\n",
       "    <tr>\n",
       "      <th>0</th>\n",
       "      <td>2019-06-01</td>\n",
       "      <td>Month 1</td>\n",
       "    </tr>\n",
       "    <tr>\n",
       "      <th>1</th>\n",
       "      <td>2019-06-02</td>\n",
       "      <td>Month 1</td>\n",
       "    </tr>\n",
       "    <tr>\n",
       "      <th>2</th>\n",
       "      <td>2019-06-03</td>\n",
       "      <td>Month 1</td>\n",
       "    </tr>\n",
       "    <tr>\n",
       "      <th>3</th>\n",
       "      <td>2019-06-04</td>\n",
       "      <td>Month 1</td>\n",
       "    </tr>\n",
       "    <tr>\n",
       "      <th>4</th>\n",
       "      <td>2019-06-05</td>\n",
       "      <td>Month 1</td>\n",
       "    </tr>\n",
       "  </tbody>\n",
       "</table>\n",
       "</div>"
      ],
      "text/plain": [
       "  gregorian_date month_name\n",
       "0     2019-06-01    Month 1\n",
       "1     2019-06-02    Month 1\n",
       "2     2019-06-03    Month 1\n",
       "3     2019-06-04    Month 1\n",
       "4     2019-06-05    Month 1"
      ]
     },
     "execution_count": 9,
     "metadata": {},
     "output_type": "execute_result"
    }
   ],
   "source": [
    "# view calendar data\n",
    "calendar_df.head()"
   ]
  },
  {
   "cell_type": "code",
   "execution_count": null,
   "metadata": {},
   "outputs": [],
   "source": []
  }
 ],
 "metadata": {
  "kernelspec": {
   "display_name": "tfenv",
   "language": "python",
   "name": "python3"
  },
  "language_info": {
   "codemirror_mode": {
    "name": "ipython",
    "version": 3
   },
   "file_extension": ".py",
   "mimetype": "text/x-python",
   "name": "python",
   "nbconvert_exporter": "python",
   "pygments_lexer": "ipython3",
   "version": "3.9.15"
  },
  "orig_nbformat": 4,
  "vscode": {
   "interpreter": {
    "hash": "81788ee4e867dea764c70204653a443e09f7e86c6907043f7f4552b092702b26"
   }
  }
 },
 "nbformat": 4,
 "nbformat_minor": 2
}
