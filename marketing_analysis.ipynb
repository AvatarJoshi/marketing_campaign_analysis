{
 "cells": [
  {
   "attachments": {},
   "cell_type": "markdown",
   "metadata": {},
   "source": [
    "# marketing_campaign_analysis\n",
    "\n",
    "Imagine that Freedom ran a recent marketing campaign to promote the value proposition of how the debt relief program helps people achieve financial freedom. Assume the cost of this campaign was $5 million. There are five months of data in the datasets provided. Let’s say campaign took place over the course of the third month. You now want to show the marketing, sales and operations teams just how successful this campaign was.\n",
    "\n",
    "## Objectives\n",
    "Using the three datasets given:\n",
    "\n",
    "1. Provide a quantitative assessment of whether the marketing campaign was successful. \n",
    "How and why did you choose your specific success metric(s)?\n",
    "2. Based on the provided data, how would you recommend campaign strategy be adjusted in the future to improve performance?\n",
    "3. How do you think campaign performance would have changed if we did not run the campaign in Month 3, but instead postponed it until month 6? \n",
    "Provide an incremental number versus your result in Question #1."
   ]
  },
  {
   "cell_type": "code",
   "execution_count": 2,
   "metadata": {},
   "outputs": [],
   "source": [
    "# import dependencies\n",
    "import pandas as pd"
   ]
  },
  {
   "cell_type": "code",
   "execution_count": 3,
   "metadata": {},
   "outputs": [],
   "source": [
    "# read in the data\n",
    "calendar_df = pd.read_csv('./resources/datasets/calendar_data.csv')\n",
    "client_df = pd.read_csv('./resources/datasets/client_data.csv')\n",
    "deposit_df = pd.read_csv('./resources/datasets/deposit_data.csv')"
   ]
  },
  {
   "cell_type": "code",
   "execution_count": 4,
   "metadata": {},
   "outputs": [
    {
     "data": {
      "text/html": [
       "<div>\n",
       "<style scoped>\n",
       "    .dataframe tbody tr th:only-of-type {\n",
       "        vertical-align: middle;\n",
       "    }\n",
       "\n",
       "    .dataframe tbody tr th {\n",
       "        vertical-align: top;\n",
       "    }\n",
       "\n",
       "    .dataframe thead th {\n",
       "        text-align: right;\n",
       "    }\n",
       "</style>\n",
       "<table border=\"1\" class=\"dataframe\">\n",
       "  <thead>\n",
       "    <tr style=\"text-align: right;\">\n",
       "      <th></th>\n",
       "      <th>client_id</th>\n",
       "      <th>client_geographical_region</th>\n",
       "      <th>client_residence_status</th>\n",
       "      <th>client_age</th>\n",
       "    </tr>\n",
       "  </thead>\n",
       "  <tbody>\n",
       "    <tr>\n",
       "      <th>0</th>\n",
       "      <td>538839486596724</td>\n",
       "      <td>Northeast</td>\n",
       "      <td>Rent</td>\n",
       "      <td>91</td>\n",
       "    </tr>\n",
       "    <tr>\n",
       "      <th>1</th>\n",
       "      <td>321708286091707</td>\n",
       "      <td>West</td>\n",
       "      <td>Own</td>\n",
       "      <td>83</td>\n",
       "    </tr>\n",
       "    <tr>\n",
       "      <th>2</th>\n",
       "      <td>848531901757235</td>\n",
       "      <td>Midwest</td>\n",
       "      <td>Own</td>\n",
       "      <td>84</td>\n",
       "    </tr>\n",
       "    <tr>\n",
       "      <th>3</th>\n",
       "      <td>854405182328779</td>\n",
       "      <td>Northeast</td>\n",
       "      <td>Own</td>\n",
       "      <td>83</td>\n",
       "    </tr>\n",
       "    <tr>\n",
       "      <th>4</th>\n",
       "      <td>769102176031316</td>\n",
       "      <td>West</td>\n",
       "      <td>Own</td>\n",
       "      <td>85</td>\n",
       "    </tr>\n",
       "  </tbody>\n",
       "</table>\n",
       "</div>"
      ],
      "text/plain": [
       "         client_id client_geographical_region client_residence_status  \\\n",
       "0  538839486596724                  Northeast                    Rent   \n",
       "1  321708286091707                       West                     Own   \n",
       "2  848531901757235                    Midwest                     Own   \n",
       "3  854405182328779                  Northeast                     Own   \n",
       "4  769102176031316                       West                     Own   \n",
       "\n",
       "   client_age  \n",
       "0          91  \n",
       "1          83  \n",
       "2          84  \n",
       "3          83  \n",
       "4          85  "
      ]
     },
     "execution_count": 4,
     "metadata": {},
     "output_type": "execute_result"
    }
   ],
   "source": [
    "# view client data\n",
    "client_df.head()"
   ]
  },
  {
   "cell_type": "code",
   "execution_count": 5,
   "metadata": {},
   "outputs": [
    {
     "data": {
      "text/html": [
       "<div>\n",
       "<style scoped>\n",
       "    .dataframe tbody tr th:only-of-type {\n",
       "        vertical-align: middle;\n",
       "    }\n",
       "\n",
       "    .dataframe tbody tr th {\n",
       "        vertical-align: top;\n",
       "    }\n",
       "\n",
       "    .dataframe thead th {\n",
       "        text-align: right;\n",
       "    }\n",
       "</style>\n",
       "<table border=\"1\" class=\"dataframe\">\n",
       "  <thead>\n",
       "    <tr style=\"text-align: right;\">\n",
       "      <th></th>\n",
       "      <th>client_id</th>\n",
       "      <th>deposit_type</th>\n",
       "      <th>deposit_amount</th>\n",
       "      <th>deposit_cadence</th>\n",
       "      <th>deposit_date</th>\n",
       "    </tr>\n",
       "  </thead>\n",
       "  <tbody>\n",
       "    <tr>\n",
       "      <th>0</th>\n",
       "      <td>446495122764671</td>\n",
       "      <td>Actual Deposit</td>\n",
       "      <td>303.0</td>\n",
       "      <td>Monthly</td>\n",
       "      <td>2019-10-23</td>\n",
       "    </tr>\n",
       "    <tr>\n",
       "      <th>1</th>\n",
       "      <td>446495122764671</td>\n",
       "      <td>Actual Deposit</td>\n",
       "      <td>303.0</td>\n",
       "      <td>Monthly</td>\n",
       "      <td>2019-09-23</td>\n",
       "    </tr>\n",
       "    <tr>\n",
       "      <th>2</th>\n",
       "      <td>446495122764671</td>\n",
       "      <td>Scheduled Deposit</td>\n",
       "      <td>303.0</td>\n",
       "      <td>Monthly</td>\n",
       "      <td>2019-09-23</td>\n",
       "    </tr>\n",
       "    <tr>\n",
       "      <th>3</th>\n",
       "      <td>446495122764671</td>\n",
       "      <td>Scheduled Deposit</td>\n",
       "      <td>303.0</td>\n",
       "      <td>Monthly</td>\n",
       "      <td>2019-10-23</td>\n",
       "    </tr>\n",
       "    <tr>\n",
       "      <th>4</th>\n",
       "      <td>446495122764671</td>\n",
       "      <td>Scheduled Deposit</td>\n",
       "      <td>303.0</td>\n",
       "      <td>Monthly</td>\n",
       "      <td>2019-06-23</td>\n",
       "    </tr>\n",
       "  </tbody>\n",
       "</table>\n",
       "</div>"
      ],
      "text/plain": [
       "         client_id       deposit_type  deposit_amount deposit_cadence  \\\n",
       "0  446495122764671     Actual Deposit           303.0         Monthly   \n",
       "1  446495122764671     Actual Deposit           303.0         Monthly   \n",
       "2  446495122764671  Scheduled Deposit           303.0         Monthly   \n",
       "3  446495122764671  Scheduled Deposit           303.0         Monthly   \n",
       "4  446495122764671  Scheduled Deposit           303.0         Monthly   \n",
       "\n",
       "  deposit_date  \n",
       "0   2019-10-23  \n",
       "1   2019-09-23  \n",
       "2   2019-09-23  \n",
       "3   2019-10-23  \n",
       "4   2019-06-23  "
      ]
     },
     "execution_count": 5,
     "metadata": {},
     "output_type": "execute_result"
    }
   ],
   "source": [
    "# view deposit data\n",
    "deposit_df.head()"
   ]
  },
  {
   "cell_type": "code",
   "execution_count": 6,
   "metadata": {},
   "outputs": [
    {
     "data": {
      "text/html": [
       "<div>\n",
       "<style scoped>\n",
       "    .dataframe tbody tr th:only-of-type {\n",
       "        vertical-align: middle;\n",
       "    }\n",
       "\n",
       "    .dataframe tbody tr th {\n",
       "        vertical-align: top;\n",
       "    }\n",
       "\n",
       "    .dataframe thead th {\n",
       "        text-align: right;\n",
       "    }\n",
       "</style>\n",
       "<table border=\"1\" class=\"dataframe\">\n",
       "  <thead>\n",
       "    <tr style=\"text-align: right;\">\n",
       "      <th></th>\n",
       "      <th>gregorian_date</th>\n",
       "      <th>month_name</th>\n",
       "    </tr>\n",
       "  </thead>\n",
       "  <tbody>\n",
       "    <tr>\n",
       "      <th>0</th>\n",
       "      <td>2019-06-01</td>\n",
       "      <td>Month 1</td>\n",
       "    </tr>\n",
       "    <tr>\n",
       "      <th>1</th>\n",
       "      <td>2019-06-02</td>\n",
       "      <td>Month 1</td>\n",
       "    </tr>\n",
       "    <tr>\n",
       "      <th>2</th>\n",
       "      <td>2019-06-03</td>\n",
       "      <td>Month 1</td>\n",
       "    </tr>\n",
       "    <tr>\n",
       "      <th>3</th>\n",
       "      <td>2019-06-04</td>\n",
       "      <td>Month 1</td>\n",
       "    </tr>\n",
       "    <tr>\n",
       "      <th>4</th>\n",
       "      <td>2019-06-05</td>\n",
       "      <td>Month 1</td>\n",
       "    </tr>\n",
       "  </tbody>\n",
       "</table>\n",
       "</div>"
      ],
      "text/plain": [
       "  gregorian_date month_name\n",
       "0     2019-06-01    Month 1\n",
       "1     2019-06-02    Month 1\n",
       "2     2019-06-03    Month 1\n",
       "3     2019-06-04    Month 1\n",
       "4     2019-06-05    Month 1"
      ]
     },
     "execution_count": 6,
     "metadata": {},
     "output_type": "execute_result"
    }
   ],
   "source": [
    "# view calendar data\n",
    "calendar_df.head()"
   ]
  },
  {
   "cell_type": "code",
   "execution_count": 8,
   "metadata": {},
   "outputs": [
    {
     "data": {
      "text/html": [
       "<div>\n",
       "<style scoped>\n",
       "    .dataframe tbody tr th:only-of-type {\n",
       "        vertical-align: middle;\n",
       "    }\n",
       "\n",
       "    .dataframe tbody tr th {\n",
       "        vertical-align: top;\n",
       "    }\n",
       "\n",
       "    .dataframe thead th {\n",
       "        text-align: right;\n",
       "    }\n",
       "</style>\n",
       "<table border=\"1\" class=\"dataframe\">\n",
       "  <thead>\n",
       "    <tr style=\"text-align: right;\">\n",
       "      <th></th>\n",
       "      <th>client_id</th>\n",
       "      <th>client_geographical_region</th>\n",
       "      <th>client_residence_status</th>\n",
       "      <th>client_age</th>\n",
       "      <th>deposit_type</th>\n",
       "      <th>deposit_amount</th>\n",
       "      <th>deposit_cadence</th>\n",
       "      <th>deposit_date</th>\n",
       "      <th>gregorian_date</th>\n",
       "      <th>month_name</th>\n",
       "    </tr>\n",
       "  </thead>\n",
       "  <tbody>\n",
       "    <tr>\n",
       "      <th>0</th>\n",
       "      <td>538839486596724</td>\n",
       "      <td>Northeast</td>\n",
       "      <td>Rent</td>\n",
       "      <td>91</td>\n",
       "      <td>Actual Deposit</td>\n",
       "      <td>10000.0</td>\n",
       "      <td>Extra</td>\n",
       "      <td>2019-07-11</td>\n",
       "      <td>2019-07-11</td>\n",
       "      <td>Month 2</td>\n",
       "    </tr>\n",
       "    <tr>\n",
       "      <th>1</th>\n",
       "      <td>773610304672603</td>\n",
       "      <td>West</td>\n",
       "      <td>Rent</td>\n",
       "      <td>24</td>\n",
       "      <td>Scheduled Deposit</td>\n",
       "      <td>100.0</td>\n",
       "      <td>Biweekly</td>\n",
       "      <td>2019-07-11</td>\n",
       "      <td>2019-07-11</td>\n",
       "      <td>Month 2</td>\n",
       "    </tr>\n",
       "    <tr>\n",
       "      <th>2</th>\n",
       "      <td>773610304672603</td>\n",
       "      <td>West</td>\n",
       "      <td>Rent</td>\n",
       "      <td>24</td>\n",
       "      <td>Actual Deposit</td>\n",
       "      <td>100.0</td>\n",
       "      <td>Biweekly</td>\n",
       "      <td>2019-07-11</td>\n",
       "      <td>2019-07-11</td>\n",
       "      <td>Month 2</td>\n",
       "    </tr>\n",
       "    <tr>\n",
       "      <th>3</th>\n",
       "      <td>552219454660531</td>\n",
       "      <td>West</td>\n",
       "      <td>Own</td>\n",
       "      <td>85</td>\n",
       "      <td>Scheduled Deposit</td>\n",
       "      <td>290.0</td>\n",
       "      <td>Biweekly</td>\n",
       "      <td>2019-07-11</td>\n",
       "      <td>2019-07-11</td>\n",
       "      <td>Month 2</td>\n",
       "    </tr>\n",
       "    <tr>\n",
       "      <th>4</th>\n",
       "      <td>55107102575545</td>\n",
       "      <td>Midwest</td>\n",
       "      <td>Own</td>\n",
       "      <td>83</td>\n",
       "      <td>Scheduled Deposit</td>\n",
       "      <td>438.0</td>\n",
       "      <td>Monthly</td>\n",
       "      <td>2019-07-11</td>\n",
       "      <td>2019-07-11</td>\n",
       "      <td>Month 2</td>\n",
       "    </tr>\n",
       "  </tbody>\n",
       "</table>\n",
       "</div>"
      ],
      "text/plain": [
       "         client_id client_geographical_region client_residence_status  \\\n",
       "0  538839486596724                  Northeast                    Rent   \n",
       "1  773610304672603                       West                    Rent   \n",
       "2  773610304672603                       West                    Rent   \n",
       "3  552219454660531                       West                     Own   \n",
       "4   55107102575545                    Midwest                     Own   \n",
       "\n",
       "   client_age       deposit_type  deposit_amount deposit_cadence deposit_date  \\\n",
       "0          91     Actual Deposit         10000.0           Extra   2019-07-11   \n",
       "1          24  Scheduled Deposit           100.0        Biweekly   2019-07-11   \n",
       "2          24     Actual Deposit           100.0        Biweekly   2019-07-11   \n",
       "3          85  Scheduled Deposit           290.0        Biweekly   2019-07-11   \n",
       "4          83  Scheduled Deposit           438.0         Monthly   2019-07-11   \n",
       "\n",
       "  gregorian_date month_name  \n",
       "0     2019-07-11    Month 2  \n",
       "1     2019-07-11    Month 2  \n",
       "2     2019-07-11    Month 2  \n",
       "3     2019-07-11    Month 2  \n",
       "4     2019-07-11    Month 2  "
      ]
     },
     "execution_count": 8,
     "metadata": {},
     "output_type": "execute_result"
    }
   ],
   "source": [
    "# merge the data\n",
    "df = pd.merge(client_df, deposit_df, on='client_id')\n",
    "df = pd.merge(df, calendar_df, left_on='deposit_date', right_on=\"gregorian_date\")\n",
    "df.head()"
   ]
  },
  {
   "cell_type": "code",
   "execution_count": 10,
   "metadata": {},
   "outputs": [
    {
     "data": {
      "text/plain": [
       "count    480394.000000\n",
       "mean        365.207130\n",
       "std         346.644434\n",
       "min           0.010000\n",
       "25%         200.000000\n",
       "50%         290.000000\n",
       "75%         452.000000\n",
       "max       30000.000000\n",
       "Name: deposit_amount, dtype: float64"
      ]
     },
     "execution_count": 10,
     "metadata": {},
     "output_type": "execute_result"
    }
   ],
   "source": [
    "# Show summary statistics for deposit amount\n",
    "df['deposit_amount'].describe()\n"
   ]
  },
  {
   "cell_type": "code",
   "execution_count": 17,
   "metadata": {},
   "outputs": [
    {
     "data": {
      "text/plain": [
       "<AxesSubplot:ylabel='Frequency'>"
      ]
     },
     "execution_count": 17,
     "metadata": {},
     "output_type": "execute_result"
    },
    {
     "data": {
      "image/png": "[encoded data removed]",
      "text/plain": [
       "<Figure size 640x480 with 1 Axes>"
      ]
     },
     "metadata": {},
     "output_type": "display_data"
    }
   ],
   "source": [
    "# View the distribution of deposit amount\n",
    "# Adjust the x-axis to see the distribution\n",
    "df['deposit_amount'].plot.hist(bins=100, xlim=(0, 2500))"
   ]
  },
  {
   "cell_type": "code",
   "execution_count": null,
   "metadata": {},
   "outputs": [],
   "source": []
  }
 ],
 "metadata": {
  "kernelspec": {
   "display_name": "tfenv",
   "language": "python",
   "name": "python3"
  },
  "language_info": {
   "codemirror_mode": {
    "name": "ipython",
    "version": 3
   },
   "file_extension": ".py",
   "mimetype": "text/x-python",
   "name": "python",
   "nbconvert_exporter": "python",
   "pygments_lexer": "ipython3",
   "version": "3.9.15"
  },
  "orig_nbformat": 4,
  "vscode": {
   "interpreter": {
    "hash": "81788ee4e867dea764c70204653a443e09f7e86c6907043f7f4552b092702b26"
   }
  }
 },
 "nbformat": 4,
 "nbformat_minor": 2
}
